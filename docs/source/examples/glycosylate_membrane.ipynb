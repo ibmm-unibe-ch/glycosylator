{
 "cells": [
  {
   "cell_type": "markdown",
   "metadata": {},
   "source": [
    "# Glycosylate a membrane\n",
    "\n",
    "In this tutorial we will glycosylate a membrane scaffold with a glycan. Membranes do not have a linear sequence in which lipids are arranged, so we cannot use _sequons_ to automatically glycosylate membranes. Instead, we can get the residues we want to glycosylate manually and pass them as a list. Let's see how!"
   ]
  },
  {
   "cell_type": "code",
   "execution_count": 1,
   "metadata": {},
   "outputs": [],
   "source": [
    "import glycosylator as gl"
   ]
  },
  {
   "cell_type": "markdown",
   "metadata": {},
   "source": [
    "First we load the membrane scaffold from a PDB file."
   ]
  },
  {
   "cell_type": "code",
   "execution_count": 5,
   "metadata": {},
   "outputs": [],
   "source": [
    "membrane = gl.Scaffold.from_pdb(\"files/membrane.pdb\")"
   ]
  },
  {
   "cell_type": "markdown",
   "metadata": {},
   "source": [
    "Now we build a glycan to attach onto the membrane. Let's use this one:"
   ]
  },
  {
   "cell_type": "code",
   "execution_count": 6,
   "metadata": {},
   "outputs": [
    {
     "data": {
      "image/png": "[encoded data removed]",
      "text/plain": [
       "<Figure size 640x480 with 1 Axes>"
      ]
     },
     "metadata": {},
     "output_type": "display_data"
    }
   ],
   "source": [
    "glycan = gl.glycan(\"Neu5Ac(a2-3)Gal(b1-3)GalNAc(b1-4)[Neu5Ac(a2-3)]Gal(b1-4)Glc\", \"GD1a\")\n",
    "glycan.show()"
   ]
  },
  {
   "cell_type": "markdown",
   "metadata": {},
   "source": [
    "Next we can glycosylate the membrane using the `glycosylate` function (or the `attach` method). To do that we first need to set the root atom of the glycan to be `C1` of the first resdiue. This is because glycosylation will always attach the glycan's root atom to the scaffold. "
   ]
  },
  {
   "cell_type": "code",
   "execution_count": 9,
   "metadata": {},
   "outputs": [],
   "source": [
    "glycan.root_atom = glycan.get_atom(\"C1\", residue=1)"
   ]
  },
  {
   "cell_type": "markdown",
   "metadata": {},
   "source": [
    "Let's say we want to glycosylate all _ceramides_ in the upper layer of the membrane. Luckily, the membrane we loaded has defined the two layers as separate chains so we can get all ceramides to glycosylate using:"
   ]
  },
  {
   "cell_type": "code",
   "execution_count": 10,
   "metadata": {},
   "outputs": [
    {
     "data": {
      "text/plain": [
       "10"
      ]
     },
     "execution_count": 10,
     "metadata": {},
     "output_type": "execute_result"
    }
   ],
   "source": [
    "# all ceramides in the upper leaflet (chain U)\n",
    "ceramides = membrane.get_residues(\"CER\", chain=\"U\")\n",
    "len(ceramides)"
   ]
  },
  {
   "cell_type": "markdown",
   "metadata": {},
   "source": [
    "Next we need to think of a linkage between the glycan and the ceramides. Luckily, glycans are attached via the `O1` of the ceramide in a typical linkage. So we can make the linkage like so:"
   ]
  },
  {
   "cell_type": "code",
   "execution_count": 12,
   "metadata": {},
   "outputs": [],
   "source": [
    "link = gl.linkage(\"O1\", \"C1\", [\"HO1\"], [\"O1\", \"HO1\"])"
   ]
  },
  {
   "cell_type": "code",
   "execution_count": 13,
   "metadata": {},
   "outputs": [],
   "source": [
    "membrane_glycosylated = membrane.attach(glycan, link, residues=ceramides)"
   ]
  },
  {
   "cell_type": "markdown",
   "metadata": {},
   "source": [
    "Let's see how many glycans we attached"
   ]
  },
  {
   "cell_type": "code",
   "execution_count": 14,
   "metadata": {},
   "outputs": [
    {
     "data": {
      "text/plain": [
       "defaultdict(dict,\n",
       "            {Atom(O1, 277): Glycan(GD1a),\n",
       "             Atom(O1, 381): Glycan(GD1a),\n",
       "             Atom(O1, 1963): Glycan(GD1a),\n",
       "             Atom(O1, 2067): Glycan(GD1a),\n",
       "             Atom(O1, 2447): Glycan(GD1a),\n",
       "             Atom(O1, 2551): Glycan(GD1a),\n",
       "             Atom(O1, 2749): Glycan(GD1a),\n",
       "             Atom(O1, 3291): Glycan(GD1a),\n",
       "             Atom(O1, 3563): Glycan(GD1a),\n",
       "             Atom(O1, 3949): Glycan(GD1a)})"
      ]
     },
     "execution_count": 14,
     "metadata": {},
     "output_type": "execute_result"
    }
   ],
   "source": [
    "membrane_glycosylated.glycans"
   ]
  },
  {
   "cell_type": "markdown",
   "metadata": {},
   "source": [
    "Now that we have a basic glycosylated protein we can save it to a new PDB file"
   ]
  },
  {
   "cell_type": "code",
   "execution_count": 15,
   "metadata": {},
   "outputs": [],
   "source": [
    "membrane_glycosylated.to_pdb(\"membrane_glycosylated.pdb\")"
   ]
  },
  {
   "cell_type": "markdown",
   "metadata": {},
   "source": [
    "### Optimizing the glycosylated membrane\n",
    "\n",
    "If we inspect the PDB file we find that some of the glycans look rather sad. That is because the geometry of the protein as well as the presence of other glycans is not really considered when attaching glycans. However, we can address these issues by optimizing the structure now. "
   ]
  },
  {
   "cell_type": "markdown",
   "metadata": {},
   "source": [
    "Glycosylator uses Biobuild's optimization framework to improve the glycan conformations. Be sure to check out the tutorial on optimization there to get more details. In short, to optimize structures we need to perform four steps: \n",
    "\n",
    "(1) make a graph representation of the molecule to optimize \n",
    "\n",
    "(2) choose bonds to rotate around in order to optimize the conformation\n",
    "\n",
    "(3) select an optimization environment to evaluate the quality of our conformations\n",
    "\n",
    "(4) solve the environment to find a good conformation\n",
    "\n",
    "\n",
    "Here we will outline how we can do this for our glycosylated protein:"
   ]
  },
  {
   "cell_type": "code",
   "execution_count": 17,
   "metadata": {},
   "outputs": [],
   "source": [
    "# glycosylator comes with a pre-made function to perform steps 1 and 2 automatically. \n",
    "# It produces a ResidueGraph for the scaffold and a list of edges that belong to the glycan residues, for optimization.\n",
    "graph, edges = gl.optimizers.make_scaffold_graph(membrane_glycosylated, only_clashing_glycans=True)"
   ]
  },
  {
   "cell_type": "markdown",
   "metadata": {},
   "source": [
    "Now that we have a graph and edges, we need to setup a an environment. Glycosylator has multiple environments that we can use. We will use the default `DistanceRotatron` which uses geomeric reasoning to evaluate conformations. There are a few hyperparameters we might need to tinker with until we get a good result..."
   ]
  },
  {
   "cell_type": "code",
   "execution_count": 19,
   "metadata": {},
   "outputs": [],
   "source": [
    "env = gl.optimizers.DistanceRotatron(graph, edges, pushback=4, crop_nodes_further_than=1.2, radius=40)"
   ]
  },
  {
   "cell_type": "markdown",
   "metadata": {},
   "source": [
    "Now we can use the environment to optimize our glycoprotein. We can use the `optimize` function to solve the environment using an optimization algorithm. We will use a particle-swarm optimization. We could pass more arguments here to further guide the behavior of the swarm optimization..."
   ]
  },
  {
   "cell_type": "code",
   "execution_count": 21,
   "metadata": {},
   "outputs": [],
   "source": [
    "optimized = gl.optimizers.optimize(membrane_glycosylated, env, \"swarm\")\n",
    "optimized.to_pdb(\"membrane_glycosylated.optimized.pdb\")"
   ]
  },
  {
   "cell_type": "markdown",
   "metadata": {},
   "source": [
    "That's for this tutorial. You can now glycosylate your own membranes. Of course, the part about optimization is only illustrative and you may need to tinker around to fit it to your system. Good luck using Glycosylator in your project!"
   ]
  }
 ],
 "metadata": {
  "kernelspec": {
   "display_name": "glyco2",
   "language": "python",
   "name": "python3"
  },
  "language_info": {
   "codemirror_mode": {
    "name": "ipython",
    "version": 3
   },
   "file_extension": ".py",
   "mimetype": "text/x-python",
   "name": "python",
   "nbconvert_exporter": "python",
   "pygments_lexer": "ipython3",
   "version": "3.11.2"
  },
  "orig_nbformat": 4
 },
 "nbformat": 4,
 "nbformat_minor": 2
}
