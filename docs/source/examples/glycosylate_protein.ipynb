{
 "cells": [
  {
   "cell_type": "markdown",
   "metadata": {},
   "source": [
    "# Glycosylate a protein\n",
    "\n",
    "In this tutorial we will glycosylate a protein scaffold with a glycan. We will use part of the HIV-1 enevellope protein 4TVP which is heavily glycosylated. We will attach a Mannose9 glycan to all Asn residues in the scaffold."
   ]
  },
  {
   "cell_type": "code",
   "execution_count": 1,
   "metadata": {},
   "outputs": [],
   "source": [
    "import glycosylator as gl"
   ]
  },
  {
   "cell_type": "markdown",
   "metadata": {},
   "source": [
    "First we load the protein scaffold and the glycan from a PDB file. We can of course make the glycan live, but we happen to have it as a PDB already."
   ]
  },
  {
   "cell_type": "code",
   "execution_count": null,
   "metadata": {},
   "outputs": [],
   "source": [
    "protein = gl.scaffold(\"files/4tvp.prot.pdb\")\n",
    "protein.reindex()\n",
    "protein.infer_bonds()\n",
    "\n",
    "glycan = gl.glycan(\"files/man9.pdb\")"
   ]
  },
  {
   "cell_type": "markdown",
   "metadata": {},
   "source": [
    "Next we can glycosylate the protein scaffold using the `glycosylate` function (or the scaffold's `attach` method). To do that we first need to set the root atom of the glycan to be `C1` of the first resdiue. This is because glycosylation will always attach the glycan's root atom to the scaffold. "
   ]
  },
  {
   "cell_type": "code",
   "execution_count": 8,
   "metadata": {},
   "outputs": [],
   "source": [
    "glycan.root_atom = glycan.get_atom(\"C1\", residue=1)"
   ]
  },
  {
   "cell_type": "markdown",
   "metadata": {},
   "source": [
    "Now with that done, we can start glycosylating. If we want to attach to all `Asn` residues, we could first get a list of all `Asn` residues and then glycosylate each of them in a for-loop. However, we can also simply use a `sequon` to find the appropriate asparagine residues automatically. Glycosylator pre-implements the `N-linked` sequon that we can use for this. There is also the `O-linked` sequon that works for `Ser` and `Thr` residues. "
   ]
  },
  {
   "cell_type": "code",
   "execution_count": 9,
   "metadata": {},
   "outputs": [],
   "source": [
    "protein_glycosylated = gl.glycosylate(protein, glycan, sequon=\"N-linked\")"
   ]
  },
  {
   "cell_type": "markdown",
   "metadata": {},
   "source": [
    "Let's see how many glycans we attached"
   ]
  },
  {
   "cell_type": "code",
   "execution_count": 10,
   "metadata": {},
   "outputs": [
    {
     "data": {
      "text/plain": [
       "defaultdict(dict,\n",
       "            {Atom(ND2, 892): Glycan(files/man9.pdb),\n",
       "             Atom(ND2, 1620): Glycan(files/man9.pdb),\n",
       "             Atom(ND2, 1677): Glycan(files/man9.pdb),\n",
       "             Atom(ND2, 1851): Glycan(files/man9.pdb),\n",
       "             Atom(ND2, 1906): Glycan(files/man9.pdb),\n",
       "             Atom(ND2, 2533): Glycan(files/man9.pdb),\n",
       "             Atom(ND2, 3106): Glycan(files/man9.pdb),\n",
       "             Atom(ND2, 3507): Glycan(files/man9.pdb),\n",
       "             Atom(ND2, 3714): Glycan(files/man9.pdb),\n",
       "             Atom(ND2, 4019): Glycan(files/man9.pdb),\n",
       "             Atom(ND2, 4109): Glycan(files/man9.pdb),\n",
       "             Atom(ND2, 4564): Glycan(files/man9.pdb),\n",
       "             Atom(ND2, 4674): Glycan(files/man9.pdb),\n",
       "             Atom(ND2, 4945): Glycan(files/man9.pdb),\n",
       "             Atom(ND2, 5078): Glycan(files/man9.pdb),\n",
       "             Atom(ND2, 5392): Glycan(files/man9.pdb),\n",
       "             Atom(ND2, 5476): Glycan(files/man9.pdb),\n",
       "             Atom(ND2, 5582): Glycan(files/man9.pdb),\n",
       "             Atom(ND2, 6181): Glycan(files/man9.pdb),\n",
       "             Atom(ND2, 6380): Glycan(files/man9.pdb),\n",
       "             Atom(ND2, 8208): Glycan(files/man9.pdb),\n",
       "             Atom(ND2, 8316): Glycan(files/man9.pdb),\n",
       "             Atom(ND2, 8429): Glycan(files/man9.pdb),\n",
       "             Atom(ND2, 8636): Glycan(files/man9.pdb)})"
      ]
     },
     "execution_count": 10,
     "metadata": {},
     "output_type": "execute_result"
    }
   ],
   "source": [
    "protein_glycosylated.glycans"
   ]
  },
  {
   "cell_type": "markdown",
   "metadata": {},
   "source": [
    "Now that we have a basic glycosylated protein we can save it to a new PDB file"
   ]
  },
  {
   "cell_type": "code",
   "execution_count": 11,
   "metadata": {},
   "outputs": [],
   "source": [
    "protein_glycosylated.to_pdb(\"protein_glycosylated.pdb\")"
   ]
  },
  {
   "cell_type": "markdown",
   "metadata": {},
   "source": [
    "### Optimizing the glycosylated protein\n",
    "\n",
    "If we inspect the PDB file we find that some of the glycans look rather sad. That is because the geometry of the protein as well as the presence of other glycans is not really considered when attaching glycans. However, we can address these issues by optimizing the structure now. "
   ]
  },
  {
   "cell_type": "markdown",
   "metadata": {},
   "source": [
    "Glycosylator uses Biobuild's optimization framework to improve the glycan conformations. Be sure to check out the tutorial on optimization there to get more details. In short, to optimize structures we need to perform four steps: \n",
    "\n",
    "(1) make a graph representation of the molecule to optimize \n",
    "\n",
    "(2) choose bonds to rotate around in order to optimize the conformation\n",
    "\n",
    "(3) select an optimization environment to evaluate the quality of our conformations\n",
    "\n",
    "(4) solve the environment to find a good conformation\n",
    "\n",
    "\n",
    "Here we will outline how we can do this for our glycosylated protein:"
   ]
  },
  {
   "cell_type": "code",
   "execution_count": 16,
   "metadata": {},
   "outputs": [],
   "source": [
    "# before we optimize the glycoprotein we \"hollow out\" the protein scaffold, that means removing all the parts that are \"inside\" the protein.\n",
    "# this is convenient because it reduces the number of atoms that need to be considered during optimization.\n",
    "protein_glycosylated.hollow_out()\n",
    "\n",
    "# glycosylator comes with a pre-made function to perform steps 1 and 2 automatically. \n",
    "# It produces a ResidueGraph for the scaffold and a list of edges that belong to the glycan residues, for optimization.\n",
    "graph, edges = gl.optimizers.make_scaffold_graph(protein_glycosylated)"
   ]
  },
  {
   "cell_type": "markdown",
   "metadata": {},
   "source": [
    "Now that we have a graph and edges, we need to setup a an environment. Glycosylator has multiple environments that we can use. We will use the default `DistanceRotatron` which uses geomeric reasoning to evaluate conformations. There are a few hyperparameters we might need to tinker with until we get a good result..."
   ]
  },
  {
   "cell_type": "code",
   "execution_count": 17,
   "metadata": {},
   "outputs": [],
   "source": [
    "env = gl.optimizers.DistanceRotatron(graph, edges, pushback=4, crop_nodes_further_than=1.2, radius=18)"
   ]
  },
  {
   "cell_type": "markdown",
   "metadata": {},
   "source": [
    "Now we can use the environment to optimize our glycoprotein. We can use the `optimize` function to solve the environment using an optimization algorithm. We will use a particle-swarm optimization. We could pass more arguments here to further guide the behavior of the swarm optimization..."
   ]
  },
  {
   "cell_type": "code",
   "execution_count": 18,
   "metadata": {},
   "outputs": [],
   "source": [
    "optimized = gl.optimizers.optimize(protein_glycosylated, env, \"swarm\")\n",
    "optimized.to_pdb(\"protein_glycosylated.optimized.pdb\")"
   ]
  },
  {
   "cell_type": "markdown",
   "metadata": {},
   "source": [
    "That's for this tutorial. You can now glycosylate your own proteins. Of course, the part about optimization is only illustrative and you may need to tinker around to fit it to your system. Good luck using Glycosylator in your project!"
   ]
  }
 ],
 "metadata": {
  "kernelspec": {
   "display_name": "glyco2",
   "language": "python",
   "name": "python3"
  },
  "language_info": {
   "codemirror_mode": {
    "name": "ipython",
    "version": 3
   },
   "file_extension": ".py",
   "mimetype": "text/x-python",
   "name": "python",
   "nbconvert_exporter": "python",
   "pygments_lexer": "ipython3",
   "version": "3.11.2"
  },
  "orig_nbformat": 4
 },
 "nbformat": 4,
 "nbformat_minor": 2
}
