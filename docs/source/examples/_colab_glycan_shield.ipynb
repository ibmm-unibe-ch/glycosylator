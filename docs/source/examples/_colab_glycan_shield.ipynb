{
 "cells": [
  {
   "cell_type": "markdown",
   "metadata": {},
   "source": [
    "# Simulating Glycan Shielding\n",
    "\n",
    "Glycosylator offers a simple quick-simulation tool to sample glycan conformations on a glycosylated scaffold without the need for extensive computational resources. In this Colab Notebook we will do a small example using the `GlycoShield` class to sample glycan conformations."
   ]
  },
  {
   "cell_type": "code",
   "execution_count": null,
   "metadata": {},
   "outputs": [],
   "source": [
    "%%capture\n",
    "# Install Glycosylator to Colab\n",
    "!pip install glycosylator rdkit py3Dmol\n",
    "\n",
    "# and fetch an already prepared glycosylated protein\n",
    "import requests\n",
    "url = \"https://raw.githubusercontent.com/ibmm-unibe-ch/glycosylator/main/docs/source/examples/files/protein_optimized.pkl\"\n",
    "r = requests.get(url)\n",
    "with open(\"protein.pkl\", \"wb\") as f:\n",
    "    f.write(r.content)"
   ]
  },
  {
   "cell_type": "code",
   "execution_count": 1,
   "metadata": {},
   "outputs": [],
   "source": [
    "import glycosylator as gl\n",
    "gl.visual.set_backend(\"py3dmol\")\n",
    "\n",
    "# load the protein\n",
    "protein = gl.Protein.load(\"protein.pkl\")"
   ]
  },
  {
   "cell_type": "markdown",
   "metadata": {},
   "source": [
    "### Simulating Glycan Shielding\n",
    "\n",
    "We can use the `GlycoShield` class to make a simulation to sample glycan conformations and compute how \"exposed\" individual amino acids on the protein are to the environment or, inversely, how \"covered\" they are by glycan residues. "
   ]
  },
  {
   "cell_type": "code",
   "execution_count": 7,
   "metadata": {},
   "outputs": [],
   "source": [
    "# setup the shield simulator\n",
    "shield = gl.GlycoShield(protein)\n",
    "\n",
    "# now run the simulation\n",
    "# (with very rough settings to make it fast)\n",
    "shield.simulate(angle_step=100, \n",
    "                repeats=1, \n",
    "                edge_samples=5, \n",
    "                save_conformations_to=None, \n",
    "                visualize_conformations=True)"
   ]
  },
  {
   "cell_type": "markdown",
   "metadata": {},
   "source": [
    "The `shield` now holds data for the exposure values of the protein's amino acids as well as a visualization of the sampled glycan conformations. We can get the data using:"
   ]
  },
  {
   "cell_type": "code",
   "execution_count": null,
   "metadata": {},
   "outputs": [],
   "source": [
    "# get a pandas dataframe with the results\n",
    "shield.exposure.df"
   ]
  },
  {
   "cell_type": "code",
   "execution_count": null,
   "metadata": {},
   "outputs": [],
   "source": [
    "# or plot the exposure data directly\n",
    "shield.exposure.plot(backend=\"plotly\")"
   ]
  },
  {
   "cell_type": "markdown",
   "metadata": {},
   "source": [
    "We can also create a 3D view of the sampled conformations by using:"
   ]
  },
  {
   "cell_type": "code",
   "execution_count": null,
   "metadata": {},
   "outputs": [],
   "source": [
    "shield.show()"
   ]
  },
  {
   "cell_type": "markdown",
   "metadata": {},
   "source": [
    "And with that we have reached the end of this tutorial. We have seen how we can use the `GlycoShield` class to perform sampling of glycan conformations on a scaffold such as a protein and obtain data on how covered or exposed certain residues are. Thanks for checking out this tutorial and good luck in your project using Glycosylator!"
   ]
  }
 ],
 "metadata": {
  "kernelspec": {
   "display_name": "glyco2",
   "language": "python",
   "name": "python3"
  },
  "language_info": {
   "codemirror_mode": {
    "name": "ipython",
    "version": 3
   },
   "file_extension": ".py",
   "mimetype": "text/x-python",
   "name": "python",
   "nbconvert_exporter": "python",
   "pygments_lexer": "ipython3",
   "version": "3.11.0"
  },
  "orig_nbformat": 4
 },
 "nbformat": 4,
 "nbformat_minor": 2
}
