{
 "cells": [
  {
   "cell_type": "markdown",
   "metadata": {},
   "source": [
    "# Glycosylate a protein\n",
    "\n",
    "In this tutorial we will glycosylate a protein scaffold with a glycan. We will use part of the HIV-1 enevellope protein 4TVP which is heavily glycosylated. We will attach a Mannose9 glycan to all Asn residues in the scaffold."
   ]
  },
  {
   "cell_type": "code",
   "execution_count": 1,
   "metadata": {},
   "outputs": [],
   "source": [
    "import glycosylator as gl"
   ]
  },
  {
   "cell_type": "markdown",
   "metadata": {},
   "source": [
    "First we load the protein scaffold and the glycan from a PDB file. We can of course make the glycan live, but we happen to have it as a PDB already."
   ]
  },
  {
   "cell_type": "code",
   "execution_count": 2,
   "metadata": {},
   "outputs": [],
   "source": [
    "protein = gl.scaffold(\"files/4tvp.prot.pdb\")\n",
    "protein.reindex()\n",
    "protein.infer_bonds(restrict_residues=False)\n",
    "\n",
    "glycan = gl.glycan(\"files/man9.pdb\")"
   ]
  },
  {
   "cell_type": "markdown",
   "metadata": {},
   "source": [
    "Next we can glycosylate the protein scaffold using the `glycosylate` function (or the scaffold's `attach` method). To do that we first need to set the root atom of the glycan to be `C1` of the first resdiue. This is because glycosylation will always attach the glycan's root atom to the scaffold. "
   ]
  },
  {
   "cell_type": "code",
   "execution_count": 3,
   "metadata": {},
   "outputs": [],
   "source": [
    "glycan.root_atom = glycan.get_atom(\"C1\", residue=1)"
   ]
  },
  {
   "cell_type": "markdown",
   "metadata": {},
   "source": [
    "Now with that done, we can start glycosylating. If we want to attach to all `Asn` residues, we could first get a list of all `Asn` residues and then glycosylate each of them in a for-loop. However, we can also simply use a `sequon` to find the appropriate asparagine residues automatically. Glycosylator pre-implements the `N-linked` sequon that we can use for this. There is also the `O-linked` sequon that works for `Ser` and `Thr` residues. "
   ]
  },
  {
   "cell_type": "code",
   "execution_count": 4,
   "metadata": {},
   "outputs": [
    {
     "data": {
      "text/plain": [
       "{'bond_order': 1}"
      ]
     },
     "execution_count": 4,
     "metadata": {},
     "output_type": "execute_result"
    }
   ],
   "source": [
    "a, b = protein.get_atoms(7518, 7517)\n",
    "\n",
    "protein._AtomGraph[a][b]"
   ]
  },
  {
   "cell_type": "code",
   "execution_count": 5,
   "metadata": {},
   "outputs": [],
   "source": [
    "# protein_glycosylated = gl.glycosylate(protein, glycan, sequon=\"N-linked\")"
   ]
  },
  {
   "cell_type": "code",
   "execution_count": 6,
   "metadata": {},
   "outputs": [
    {
     "ename": "NameError",
     "evalue": "name 'protein_glycosylated' is not defined",
     "output_type": "error",
     "traceback": [
      "\u001b[0;31m---------------------------------------------------------------------------\u001b[0m",
      "\u001b[0;31mNameError\u001b[0m                                 Traceback (most recent call last)",
      "Cell \u001b[0;32mIn[6], line 1\u001b[0m\n\u001b[0;32m----> 1\u001b[0m protein_glycosylated\u001b[39m.\u001b[39mglycans\n",
      "\u001b[0;31mNameError\u001b[0m: name 'protein_glycosylated' is not defined"
     ]
    }
   ],
   "source": [
    "protein_glycosylated.glycans"
   ]
  },
  {
   "cell_type": "markdown",
   "metadata": {},
   "source": [
    "Now that we have a basic glycosylated protein we can save it to a new PDB file"
   ]
  },
  {
   "cell_type": "code",
   "execution_count": null,
   "metadata": {},
   "outputs": [],
   "source": [
    "protein_glycosylated.to_pdb(\"protein_glycosylated.pdb\")"
   ]
  },
  {
   "cell_type": "markdown",
   "metadata": {},
   "source": [
    "### Optimizing the glycosylated protein\n",
    "\n",
    "If we inspect the PDB file we find that some of the glycans look rather sad. That is because the geometry of the protein as well as the presence of other glycans is not really considered when attaching glycans. However, we can address these issues by optimizing the structure now. "
   ]
  },
  {
   "cell_type": "markdown",
   "metadata": {},
   "source": [
    "Glycosylator uses Biobuild's optimization framework to improve the glycan conformations. Be sure to check out the tutorial on optimization there to get more details. In short, to optimize structures we need to perform four steps: \n",
    "\n",
    "(1) make a graph representation of the molecule to optimize \n",
    "(2) choose bonds to rotate around in order to optimize the conformation\n",
    "(3) select an optimization environment to evaluate the quality of our conformations\n",
    "(4) solve the environment to find a good conformation\n",
    "\n",
    "Here we will outline how we can do this for our glycosylated protein:"
   ]
  },
  {
   "cell_type": "code",
   "execution_count": null,
   "metadata": {},
   "outputs": [
    {
     "ename": "KeyError",
     "evalue": "Atom(C, 5569)",
     "output_type": "error",
     "traceback": [
      "\u001b[0;31m---------------------------------------------------------------------------\u001b[0m",
      "\u001b[0;31mKeyError\u001b[0m                                  Traceback (most recent call last)",
      "File \u001b[0;32m~/anaconda3/envs/glyco2/lib/python3.11/site-packages/biobuild/graphs/ResidueGraph.py:57\u001b[0m, in \u001b[0;36mResidueGraph.from_molecule\u001b[0;34m(cls, mol, detailed, locked)\u001b[0m\n\u001b[1;32m     56\u001b[0m \u001b[39mtry\u001b[39;00m:\n\u001b[0;32m---> 57\u001b[0m     connections \u001b[39m=\u001b[39m mol\u001b[39m.\u001b[39mget_residue_connections(triplet\u001b[39m=\u001b[39m\u001b[39mTrue\u001b[39;00m)\n\u001b[1;32m     58\u001b[0m \u001b[39mexcept\u001b[39;00m:\n",
      "File \u001b[0;32m~/anaconda3/envs/glyco2/lib/python3.11/site-packages/biobuild/core/entity.py:1963\u001b[0m, in \u001b[0;36mBaseEntity.get_residue_connections\u001b[0;34m(self, residue_a, residue_b, triplet)\u001b[0m\n\u001b[1;32m   1962\u001b[0m \u001b[39mif\u001b[39;00m triplet:\n\u001b[0;32m-> 1963\u001b[0m     bonds \u001b[39m=\u001b[39m \u001b[39mself\u001b[39m\u001b[39m.\u001b[39m_make_bond_triplets(bonds)\n\u001b[1;32m   1964\u001b[0m \u001b[39mreturn\u001b[39;00m \u001b[39mlist\u001b[39m(bonds)\n",
      "File \u001b[0;32m~/anaconda3/envs/glyco2/lib/python3.11/site-packages/biobuild/core/entity.py:1985\u001b[0m, in \u001b[0;36mBaseEntity._make_bond_triplets\u001b[0;34m(self, bonds)\u001b[0m\n\u001b[1;32m   1984\u001b[0m neighs \u001b[39m=\u001b[39m \u001b[39mself\u001b[39m\u001b[39m.\u001b[39mget_neighbors(atom1)\n\u001b[0;32m-> 1985\u001b[0m neighs\u001b[39m.\u001b[39mremove(atom2)\n\u001b[1;32m   1986\u001b[0m neighs \u001b[39m-\u001b[39m\u001b[39m=\u001b[39m \u001b[39mset\u001b[39m(i \u001b[39mfor\u001b[39;00m i \u001b[39min\u001b[39;00m neighs \u001b[39mif\u001b[39;00m i\u001b[39m.\u001b[39melement \u001b[39m==\u001b[39m \u001b[39m\"\u001b[39m\u001b[39mH\u001b[39m\u001b[39m\"\u001b[39m)\n",
      "\u001b[0;31mKeyError\u001b[0m: Atom(C, 5569)",
      "\nDuring handling of the above exception, another exception occurred:\n",
      "\u001b[0;31mKeyError\u001b[0m                                  Traceback (most recent call last)",
      "Cell \u001b[0;32mIn[7], line 3\u001b[0m\n\u001b[1;32m      1\u001b[0m \u001b[39m# glycosylator comes with a pre-made function to perform steps 1 and 2 automatically. \u001b[39;00m\n\u001b[1;32m      2\u001b[0m \u001b[39m# It produces a ResidueGraph for the scaffold and a list of edges that belong to the glycan residues, for optimization.\u001b[39;00m\n\u001b[0;32m----> 3\u001b[0m graph, edges \u001b[39m=\u001b[39m gl\u001b[39m.\u001b[39moptimizers\u001b[39m.\u001b[39mmake_scaffold_graph(protein_glycosylated)\n",
      "File \u001b[0;32m~/anaconda3/envs/glyco2/lib/python3.11/site-packages/glycosylator/optimizers/utils.py:30\u001b[0m, in \u001b[0;36mmake_scaffold_graph\u001b[0;34m(scaffold, only_clashing_glycans, only_clashes_between_glycans)\u001b[0m\n\u001b[1;32m      6\u001b[0m \u001b[39mdef\u001b[39;00m \u001b[39mmake_scaffold_graph\u001b[39m(\n\u001b[1;32m      7\u001b[0m     scaffold,\n\u001b[1;32m      8\u001b[0m     only_clashing_glycans: \u001b[39mbool\u001b[39m \u001b[39m=\u001b[39m \u001b[39mFalse\u001b[39;00m,\n\u001b[1;32m      9\u001b[0m     only_clashes_between_glycans: \u001b[39mbool\u001b[39m \u001b[39m=\u001b[39m \u001b[39mFalse\u001b[39;00m,\n\u001b[1;32m     10\u001b[0m ) \u001b[39m-\u001b[39m\u001b[39m>\u001b[39m \u001b[39mtuple\u001b[39m:\n\u001b[1;32m     11\u001b[0m \u001b[39m    \u001b[39m\u001b[39m\"\"\"\u001b[39;00m\n\u001b[1;32m     12\u001b[0m \u001b[39m    Make a ResidueGraph from a glycosylated scaffold in order to optimize the conformations of the attached glycans.\u001b[39;00m\n\u001b[1;32m     13\u001b[0m \n\u001b[0;32m   (...)\u001b[0m\n\u001b[1;32m     28\u001b[0m \u001b[39m        The rotatable edges of the graph\u001b[39;00m\n\u001b[1;32m     29\u001b[0m \u001b[39m    \"\"\"\u001b[39;00m\n\u001b[0;32m---> 30\u001b[0m     G \u001b[39m=\u001b[39m scaffold\u001b[39m.\u001b[39mmake_residue_graph(\u001b[39mTrue\u001b[39;00m)\n\u001b[1;32m     31\u001b[0m     rotatable_edges \u001b[39m=\u001b[39m []\n\u001b[1;32m     32\u001b[0m     \u001b[39mif\u001b[39;00m only_clashing_glycans:\n",
      "File \u001b[0;32m~/anaconda3/envs/glyco2/lib/python3.11/site-packages/glycosylator/core/Scaffold.py:592\u001b[0m, in \u001b[0;36mScaffold.make_residue_graph\u001b[0;34m(self, detailed, locked)\u001b[0m\n\u001b[1;32m    591\u001b[0m \u001b[39mdef\u001b[39;00m \u001b[39mmake_residue_graph\u001b[39m(\u001b[39mself\u001b[39m, detailed: \u001b[39mbool\u001b[39m \u001b[39m=\u001b[39m \u001b[39mFalse\u001b[39;00m, locked: \u001b[39mbool\u001b[39m \u001b[39m=\u001b[39m \u001b[39mTrue\u001b[39;00m):\n\u001b[0;32m--> 592\u001b[0m     graph \u001b[39m=\u001b[39m \u001b[39msuper\u001b[39m()\u001b[39m.\u001b[39mmake_residue_graph(detailed, locked)\n\u001b[1;32m    593\u001b[0m     \u001b[39m# also add all remaining non connected (scaffold residues)\u001b[39;00m\n\u001b[1;32m    594\u001b[0m     \u001b[39mfor\u001b[39;00m residue \u001b[39min\u001b[39;00m \u001b[39mself\u001b[39m\u001b[39m.\u001b[39mresidues:\n",
      "File \u001b[0;32m~/anaconda3/envs/glyco2/lib/python3.11/site-packages/biobuild/core/entity.py:2242\u001b[0m, in \u001b[0;36mBaseEntity.make_residue_graph\u001b[0;34m(self, detailed, locked)\u001b[0m\n\u001b[1;32m   2228\u001b[0m \u001b[39mdef\u001b[39;00m \u001b[39mmake_residue_graph\u001b[39m(\u001b[39mself\u001b[39m, detailed: \u001b[39mbool\u001b[39m \u001b[39m=\u001b[39m \u001b[39mFalse\u001b[39;00m, locked: \u001b[39mbool\u001b[39m \u001b[39m=\u001b[39m \u001b[39mTrue\u001b[39;00m):\n\u001b[1;32m   2229\u001b[0m \u001b[39m    \u001b[39m\u001b[39m\"\"\"\u001b[39;00m\n\u001b[1;32m   2230\u001b[0m \u001b[39m    Generate a ResidueGraph for the Molecule\u001b[39;00m\n\u001b[1;32m   2231\u001b[0m \n\u001b[0;32m   (...)\u001b[0m\n\u001b[1;32m   2240\u001b[0m \u001b[39m        This is only relevant if detailed is True.\u001b[39;00m\n\u001b[1;32m   2241\u001b[0m \u001b[39m    \"\"\"\u001b[39;00m\n\u001b[0;32m-> 2242\u001b[0m     graph \u001b[39m=\u001b[39m graphs\u001b[39m.\u001b[39mResidueGraph\u001b[39m.\u001b[39mfrom_molecule(\u001b[39mself\u001b[39m, detailed, locked)\n\u001b[1;32m   2243\u001b[0m     graph\u001b[39m.\u001b[39m_molecule \u001b[39m=\u001b[39m \u001b[39mself\u001b[39m\n\u001b[1;32m   2244\u001b[0m     \u001b[39mreturn\u001b[39;00m graph\n",
      "File \u001b[0;32m~/anaconda3/envs/glyco2/lib/python3.11/site-packages/biobuild/graphs/ResidueGraph.py:60\u001b[0m, in \u001b[0;36mResidueGraph.from_molecule\u001b[0;34m(cls, mol, detailed, locked)\u001b[0m\n\u001b[1;32m     58\u001b[0m \u001b[39mexcept\u001b[39;00m:\n\u001b[1;32m     59\u001b[0m     mol\u001b[39m.\u001b[39minfer_residue_connections()\n\u001b[0;32m---> 60\u001b[0m     connections \u001b[39m=\u001b[39m mol\u001b[39m.\u001b[39mget_residue_connections(triplet\u001b[39m=\u001b[39m\u001b[39mTrue\u001b[39;00m)\n\u001b[1;32m     61\u001b[0m main_connections \u001b[39m=\u001b[39m [\n\u001b[1;32m     62\u001b[0m     (i\u001b[39m.\u001b[39mget_parent(), j\u001b[39m.\u001b[39mget_parent())\n\u001b[1;32m     63\u001b[0m     \u001b[39mfor\u001b[39;00m i, j \u001b[39min\u001b[39;00m connections\n\u001b[1;32m     64\u001b[0m     \u001b[39mif\u001b[39;00m i\u001b[39m.\u001b[39mget_parent() \u001b[39m!=\u001b[39m j\u001b[39m.\u001b[39mget_parent()\n\u001b[1;32m     65\u001b[0m ]\n\u001b[1;32m     66\u001b[0m new \u001b[39m=\u001b[39m \u001b[39mcls\u001b[39m(mol\u001b[39m.\u001b[39mid, main_connections)\n",
      "File \u001b[0;32m~/anaconda3/envs/glyco2/lib/python3.11/site-packages/biobuild/core/entity.py:1963\u001b[0m, in \u001b[0;36mBaseEntity.get_residue_connections\u001b[0;34m(self, residue_a, residue_b, triplet)\u001b[0m\n\u001b[1;32m   1956\u001b[0m     bonds \u001b[39m=\u001b[39m (\n\u001b[1;32m   1957\u001b[0m         i\n\u001b[1;32m   1958\u001b[0m         \u001b[39mfor\u001b[39;00m i \u001b[39min\u001b[39;00m bonds\n\u001b[1;32m   1959\u001b[0m         \u001b[39mif\u001b[39;00m (i[\u001b[39m0\u001b[39m]\u001b[39m.\u001b[39mget_parent() \u001b[39min\u001b[39;00m residue_a \u001b[39mand\u001b[39;00m i[\u001b[39m1\u001b[39m]\u001b[39m.\u001b[39mget_parent() \u001b[39min\u001b[39;00m residue_b)\n\u001b[1;32m   1960\u001b[0m         \u001b[39mor\u001b[39;00m (i[\u001b[39m1\u001b[39m]\u001b[39m.\u001b[39mget_parent() \u001b[39min\u001b[39;00m residue_a \u001b[39mand\u001b[39;00m i[\u001b[39m0\u001b[39m]\u001b[39m.\u001b[39mget_parent() \u001b[39min\u001b[39;00m residue_b)\n\u001b[1;32m   1961\u001b[0m     )\n\u001b[1;32m   1962\u001b[0m \u001b[39mif\u001b[39;00m triplet:\n\u001b[0;32m-> 1963\u001b[0m     bonds \u001b[39m=\u001b[39m \u001b[39mself\u001b[39m\u001b[39m.\u001b[39m_make_bond_triplets(bonds)\n\u001b[1;32m   1964\u001b[0m \u001b[39mreturn\u001b[39;00m \u001b[39mlist\u001b[39m(bonds)\n",
      "File \u001b[0;32m~/anaconda3/envs/glyco2/lib/python3.11/site-packages/biobuild/core/entity.py:1985\u001b[0m, in \u001b[0;36mBaseEntity._make_bond_triplets\u001b[0;34m(self, bonds)\u001b[0m\n\u001b[1;32m   1983\u001b[0m \u001b[39mfor\u001b[39;00m atom1, atom2 \u001b[39min\u001b[39;00m bonds:\n\u001b[1;32m   1984\u001b[0m     neighs \u001b[39m=\u001b[39m \u001b[39mself\u001b[39m\u001b[39m.\u001b[39mget_neighbors(atom1)\n\u001b[0;32m-> 1985\u001b[0m     neighs\u001b[39m.\u001b[39mremove(atom2)\n\u001b[1;32m   1986\u001b[0m     neighs \u001b[39m-\u001b[39m\u001b[39m=\u001b[39m \u001b[39mset\u001b[39m(i \u001b[39mfor\u001b[39;00m i \u001b[39min\u001b[39;00m neighs \u001b[39mif\u001b[39;00m i\u001b[39m.\u001b[39melement \u001b[39m==\u001b[39m \u001b[39m\"\u001b[39m\u001b[39mH\u001b[39m\u001b[39m\"\u001b[39m)\n\u001b[1;32m   1987\u001b[0m     \u001b[39mif\u001b[39;00m \u001b[39mlen\u001b[39m(neighs) \u001b[39m==\u001b[39m \u001b[39m1\u001b[39m:\n",
      "\u001b[0;31mKeyError\u001b[0m: Atom(C, 5569)"
     ]
    }
   ],
   "source": [
    "# glycosylator comes with a pre-made function to perform steps 1 and 2 automatically. \n",
    "# It produces a ResidueGraph for the scaffold and a list of edges that belong to the glycan residues, for optimization.\n",
    "# graph, edges = gl.optimizers.make_scaffold_graph(protein_glycosylated)"
   ]
  },
  {
   "cell_type": "markdown",
   "metadata": {},
   "source": [
    "Now that we have a grpah and edges, we need to setup a an environment. Biobuild has multiple environments that we can use. We will use the default `DistanceRotatron` which uses geomeric reasoning to evaluate conformations. "
   ]
  }
 ],
 "metadata": {
  "kernelspec": {
   "display_name": "glyco2",
   "language": "python",
   "name": "python3"
  },
  "language_info": {
   "codemirror_mode": {
    "name": "ipython",
    "version": 3
   },
   "file_extension": ".py",
   "mimetype": "text/x-python",
   "name": "python",
   "nbconvert_exporter": "python",
   "pygments_lexer": "ipython3",
   "version": "3.11.2"
  },
  "orig_nbformat": 4
 },
 "nbformat": 4,
 "nbformat_minor": 2
}
