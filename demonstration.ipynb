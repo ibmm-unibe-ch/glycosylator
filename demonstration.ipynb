{
 "cells": [
  {
   "cell_type": "code",
   "execution_count": 1,
   "metadata": {},
   "outputs": [],
   "source": [
    "import glycosylator as gl"
   ]
  },
  {
   "cell_type": "markdown",
   "metadata": {},
   "source": [
    "## Demo 1: Molecule"
   ]
  },
  {
   "cell_type": "code",
   "execution_count": 2,
   "metadata": {},
   "outputs": [
    {
     "name": "stderr",
     "output_type": "stream",
     "text": [
      "@> 246 atoms and 1 coordinate set(s) were parsed in 0.00s.\n"
     ]
    }
   ],
   "source": [
    "man9 = gl.Molecule.from_PDB('support/examples/man9.pdb', 1)"
   ]
  },
  {
   "cell_type": "code",
   "execution_count": 3,
   "metadata": {},
   "outputs": [
    {
     "name": "stdout",
     "output_type": "stream",
     "text": [
      "Number of torsional angles: 236\n"
     ]
    }
   ],
   "source": [
    "print(f'Number of torsional angles: {len(man9.torsionals)}')"
   ]
  },
  {
   "cell_type": "code",
   "execution_count": 4,
   "metadata": {},
   "outputs": [
    {
     "name": "stdout",
     "output_type": "stream",
     "text": [
      "Torsional Angle Before: -85.3039552791497\n",
      "Torsional Angle After: -70.30395527914972\n",
      "Torsional Angle absolute set: 45.0000000000001\n"
     ]
    }
   ],
   "source": [
    "i = 10\n",
    "torsional = man9.torsionals[i]\n",
    "print(f'Torsional Angle Before: {man9.measure_dihedral_angle(torsional)}')\n",
    "\n",
    "man9.rotate_bond(torsional, 15, absolute=False)\n",
    "print(f'Torsional Angle After: {man9.measure_dihedral_angle(torsional)}')\n",
    "\n",
    "man9.rotate_bond(torsional, 45, absolute=True)\n",
    "print(f'Torsional Angle absolute set: {man9.measure_dihedral_angle(torsional)}')"
   ]
  },
  {
   "cell_type": "markdown",
   "metadata": {},
   "source": [
    "## Demo 2: Builder"
   ]
  },
  {
   "cell_type": "code",
   "execution_count": 5,
   "metadata": {},
   "outputs": [],
   "source": [
    "import glycosylator as gl\n",
    "import prody"
   ]
  },
  {
   "cell_type": "code",
   "execution_count": 6,
   "metadata": {},
   "outputs": [],
   "source": [
    "topo_path = 'support/toppar_charmm/carbohydrates.rtf'\n",
    "prm_path = 'support/toppar_charmm/carbohydrates.prm'\n",
    "builder = gl.MoleculeBuilder(topo_path, prm_path)"
   ]
  },
  {
   "cell_type": "code",
   "execution_count": 7,
   "metadata": {},
   "outputs": [
    {
     "name": "stderr",
     "output_type": "stream",
     "text": [
      "@> 30 atoms and 1 coordinate set(s) were parsed in 0.00s.\n"
     ]
    }
   ],
   "source": [
    "nag = prody.parsePDB('support/examples/NAG.pdb')"
   ]
  },
  {
   "cell_type": "code",
   "execution_count": 8,
   "metadata": {},
   "outputs": [],
   "source": [
    "nag = nag.select('not serial 4 9').toAtomGroup()"
   ]
  },
  {
   "cell_type": "code",
   "execution_count": 9,
   "metadata": {},
   "outputs": [],
   "source": [
    "nag_complete, missing_atoms, bonds = builder.find_missing_atoms(nag)\n",
    "builder.build_missing_atom_coord(nag_complete, missing_atoms, builder.Topology.topology['NAG']['IC'])"
   ]
  },
  {
   "cell_type": "code",
   "execution_count": 10,
   "metadata": {},
   "outputs": [],
   "source": [
    "nag2, del_atoms, bonds2 = builder.build_from_patch(nag_complete, 2, 'NAG', 'G', 'G1', '14bb')"
   ]
  },
  {
   "cell_type": "code",
   "execution_count": 11,
   "metadata": {},
   "outputs": [],
   "source": [
    "nag_complete = builder.delete_atoms(nag_complete, del_atoms)\n",
    "nag2 = builder.delete_atoms(nag2, del_atoms)\n",
    "nag_complete += nag2"
   ]
  },
  {
   "cell_type": "code",
   "execution_count": 12,
   "metadata": {},
   "outputs": [],
   "source": [
    "builder.Topology.read_topology('support/topology/DUMMY.top')\n",
    "man, del_atoms, bond_man = builder.build_from_DUMMY(1, 'MAN', 'G', '1G', 'DUMMY_MAN')"
   ]
  },
  {
   "cell_type": "markdown",
   "metadata": {},
   "source": [
    "## Demo 3: Glycosylating Glycans"
   ]
  },
  {
   "cell_type": "code",
   "execution_count": 1,
   "metadata": {},
   "outputs": [
    {
     "data": {
      "application/vnd.jupyter.widget-view+json": {
       "model_id": "3fac3b2eb2014e8d9fc919840e22a6d5",
       "version_major": 2,
       "version_minor": 0
      },
      "text/plain": []
     },
     "metadata": {},
     "output_type": "display_data"
    }
   ],
   "source": [
    "import glycosylator as gl\n",
    "import nglview as nv\n",
    "import prody"
   ]
  },
  {
   "cell_type": "code",
   "execution_count": 2,
   "metadata": {},
   "outputs": [],
   "source": [
    "topo_path = 'support/toppar_charmm/carbohydrates.rtf'\n",
    "prm_path = 'support/toppar_charmm/carbohydrates.prm'\n",
    "g = gl.Glycosylator(\n",
    "    topo_path,\n",
    "    prm_path\n",
    ")\n",
    "g.load_glycan_topologies('support/topology/man9.top')\n",
    "g.builder.Topology.read_topology('support/topology/DUMMY.top')"
   ]
  },
  {
   "cell_type": "code",
   "execution_count": 3,
   "metadata": {},
   "outputs": [
    {
     "name": "stdout",
     "output_type": "stream",
     "text": [
      "Expected number of residue for de_novo_man9: 11\n",
      "de_novo_man9 has 11 residues\n"
     ]
    }
   ],
   "source": [
    "de_novo_man9 = g.glycosylate(None, 'MAN9')\n",
    "print(f\"Expected number of residue for de_novo_man9: {len(g.glycan_topologies['MAN9'])}\")\n",
    "print(f'de_novo_man9 has {len(de_novo_man9.residue_graph)} residues')"
   ]
  },
  {
   "cell_type": "code",
   "execution_count": 4,
   "metadata": {},
   "outputs": [
    {
     "name": "stderr",
     "output_type": "stream",
     "text": [
      "@> 246 atoms and 1 coordinate set(s) were parsed in 0.00s.\n"
     ]
    },
    {
     "name": "stdout",
     "output_type": "stream",
     "text": [
      "Expected number of residue for man9: 11\n",
      "man9 has 11 residues\n"
     ]
    }
   ],
   "source": [
    "g.load_glycan_topologies('support/topology/mannose.top')\n",
    "\n",
    "man9 = gl.Molecule.from_PDB('support/examples/man9.pdb', 1)\n",
    "g.assign_patches(man9)\n",
    "print(f\"Expected number of residue for man9: {len(g.glycan_topologies['MAN9'])}\")\n",
    "print(f'man9 has {len(man9.residue_graph)} residues')"
   ]
  },
  {
   "cell_type": "code",
   "execution_count": 5,
   "metadata": {},
   "outputs": [
    {
     "name": "stdout",
     "output_type": "stream",
     "text": [
      "Expected number of residue for man6: 8\n",
      "man6 has 8 residues\n"
     ]
    }
   ],
   "source": [
    "\n",
    "# trim man9 down to man6\n",
    "man6 = g.glycosylate(man9, 'MAN6_1;3,2')\n",
    "print(f\"Expected number of residue for man6: {len(g.glycan_topologies['MAN6_1;3,2'])}\")\n",
    "print(f'man6 has {len(man6.residue_graph)} residues')"
   ]
  },
  {
   "cell_type": "code",
   "execution_count": 6,
   "metadata": {},
   "outputs": [
    {
     "name": "stdout",
     "output_type": "stream",
     "text": [
      "Expected number of residue for man8: 10\n",
      "man8 has 10 residues\n"
     ]
    }
   ],
   "source": [
    "# extend man6 to man8\n",
    "man8 = g.glycosylate(man6, 'MAN8_2;4,2')\n",
    "print(f\"Expected number of residue for man8: {len(g.glycan_topologies['MAN8_2;4,2'])}\")\n",
    "print(f'man8 has {len(man8.residue_graph)} residues')"
   ]
  },
  {
   "cell_type": "code",
   "execution_count": 7,
   "metadata": {},
   "outputs": [
    {
     "name": "stdout",
     "output_type": "stream",
     "text": [
      "Expected number of residue for manual_glycan: 8\n",
      "manual_glycan has 8 residues\n"
     ]
    }
   ],
   "source": [
    "patch_paths = [\n",
    "    'NAG',\n",
    "    'NAG C1 14bb',\n",
    "    'BMA C1 14bb 14bb',\n",
    "    'MAN C1 14bb 14bb 16ab',\n",
    "    'MAN C1 14bb 14bb 16ab 16ab',\n",
    "    'MAN C1 14bb 14bb 16ab 13ab',\n",
    "    'MAN C1 14bb 14bb 16ab 13ab 12aa',\n",
    "    'MAN C1 14bb 14bb 13ab'\n",
    "]\n",
    "manual_glycan_topo = gl.glycan_representations.GlycanTopology.from_patch_strings('custom_glycan', patch_paths)\n",
    "manual_glycan = g.glycosylate(None, manual_glycan_topo)\n",
    "print(f\"Expected number of residue for manual_glycan: {len(manual_glycan_topo)}\")\n",
    "print(f'manual_glycan has {len(manual_glycan.residue_graph)} residues')\n",
    "# save glycan if desired\n",
    "# manual_glycan.write_PDB('manual_glycan.pdb')"
   ]
  },
  {
   "cell_type": "markdown",
   "metadata": {},
   "source": [
    "## Demo 4: Glycosylating Protein"
   ]
  },
  {
   "cell_type": "code",
   "execution_count": 1,
   "metadata": {},
   "outputs": [
    {
     "data": {
      "application/vnd.jupyter.widget-view+json": {
       "model_id": "7d8f82985878472ea8d182c7cc0e18e1",
       "version_major": 2,
       "version_minor": 0
      },
      "text/plain": []
     },
     "metadata": {},
     "output_type": "display_data"
    }
   ],
   "source": [
    "import glycosylator as gl\n",
    "import nglview as nv\n",
    "import prody"
   ]
  },
  {
   "cell_type": "code",
   "execution_count": 2,
   "metadata": {},
   "outputs": [],
   "source": [
    "topo_path = 'support/toppar_charmm/carbohydrates.rtf'\n",
    "prm_path = 'support/toppar_charmm/carbohydrates.prm'\n",
    "dummy_top = 'support/topology/DUMMY.top'\n",
    "man_top = 'support/topology/mannose.top'\n",
    "g = gl.Glycosylator(\n",
    "    topo_path,\n",
    "    prm_path\n",
    ")\n",
    "g.load_glycan_topologies(man_top)"
   ]
  },
  {
   "cell_type": "code",
   "execution_count": 3,
   "metadata": {},
   "outputs": [
    {
     "name": "stderr",
     "output_type": "stream",
     "text": [
      "@> 5309 atoms and 1 coordinate set(s) were parsed in 0.05s.\n"
     ]
    },
    {
     "data": {
      "text/plain": [
       "'MAN8_3;3,2'"
      ]
     },
     "execution_count": 3,
     "metadata": {},
     "output_type": "execute_result"
    }
   ],
   "source": [
    "hiv_env = prody.parsePDB('support/examples/env_4tvp.pdb')\n",
    "# Residue number 625 on chain B\n",
    "protein_residue = hiv_env[('B', 625)]\n",
    "\n",
    "man8 = g.glycosylate(None, 'MAN8_3;3,2', protein_residue=protein_residue, protein_link_patch='NGLB')\n",
    "g.identify_glycan(man8)"
   ]
  },
  {
   "cell_type": "code",
   "execution_count": 4,
   "metadata": {},
   "outputs": [
    {
     "name": "stdout",
     "output_type": "stream",
     "text": [
      "Root residue: ASN 88 G -> MAN5_1;3,1\n",
      "Root residue: ASN 133 G -> NAG1_0;0,0\n",
      "Root residue: ASN 137 G -> MAN2_1;1,0\n",
      "Root residue: ASN 156 G -> MAN3_1;2,0\n",
      "Root residue: ASN 160 G -> NAG2_0;0,0\n",
      "Root residue: ASN 197 G -> NAG2_0;0,0\n",
      "Root residue: ASN 234 G -> NAG2_0;0,0\n",
      "Root residue: ASN 262 G -> MAN4_2;2,0\n",
      "Root residue: ASN 276 G -> NAG1_0;0,0\n",
      "Root residue: ASN 295 G -> NAG2_0;0,0\n",
      "Root residue: ASN 301 G -> NAG2_0;0,0\n",
      "Root residue: ASN 332 G -> MAN8_3;3,2\n",
      "Root residue: ASN 339 G -> NAG1_0;0,0\n",
      "Root residue: ASN 355 G -> NAG1_0;0,0\n",
      "Root residue: ASN 363 G -> NAG2_0;0,0\n",
      "Root residue: ASN 386 G -> NAG2_0;0,0\n",
      "Root residue: ASN 392 G -> NAG2_0;0,0\n",
      "Root residue: ASN 448 G -> BMA1_0;0,0\n",
      "Root residue: ASN 611 B -> NAG1_0;0,0\n",
      "Root residue: ASN 618 B -> NAG1_0;0,0\n",
      "Root residue: ASN 637 B -> NAG1_0;0,0\n"
     ]
    }
   ],
   "source": [
    "g.load_glycoprotein_from_AtomGroup(hiv_env)\n",
    "# List of identified residues that are part of a sequon\n",
    "sequons = g.find_linking_residues(sequon_pattern=\"(N[^P][S|T])\")\n",
    "# List of existing glycans, each containing an amino acid at the root\n",
    "glycans = g.find_existing_glycans()\n",
    "for glycan in glycans:\n",
    "    root_res: prody.Residue = glycan.residue_graph.graph[\"root_residue\"]\n",
    "    g.assign_patches(glycan)\n",
    "    glycan_name = g.identify_glycan(glycan)\n",
    "    print(f\"Root residue: {root_res.getResname()} {root_res.getResnum()} {root_res.getChid()} -> {glycan_name}\")\n"
   ]
  },
  {
   "cell_type": "code",
   "execution_count": 5,
   "metadata": {},
   "outputs": [
    {
     "ename": "AttributeError",
     "evalue": "'numpy.int64' object has no attribute 'getResnum'",
     "output_type": "error",
     "traceback": [
      "\u001b[0;31m---------------------------------------------------------------------------\u001b[0m",
      "\u001b[0;31mAttributeError\u001b[0m                            Traceback (most recent call last)",
      "Cell \u001b[0;32mIn [5], line 4\u001b[0m\n\u001b[1;32m      1\u001b[0m protein_residue \u001b[39m=\u001b[39m hiv_env[(\u001b[39m'\u001b[39m\u001b[39mG\u001b[39m\u001b[39m'\u001b[39m, \u001b[39m262\u001b[39m)]\n\u001b[1;32m      2\u001b[0m original_glycan \u001b[39m=\u001b[39m g\u001b[39m.\u001b[39mfind_glycan(protein_residue)\n\u001b[0;32m----> 4\u001b[0m new_glycan \u001b[39m=\u001b[39m g\u001b[39m.\u001b[39;49mglycosylate(original_glycan, \u001b[39m'\u001b[39;49m\u001b[39mMAN9_3;4,2\u001b[39;49m\u001b[39m'\u001b[39;49m, protein_residue, \u001b[39m'\u001b[39;49m\u001b[39mNGLB\u001b[39;49m\u001b[39m'\u001b[39;49m)\n\u001b[1;32m      5\u001b[0m \u001b[39m# export glycoprotein as pdb if desired\u001b[39;00m\n\u001b[1;32m      6\u001b[0m \u001b[39m# g.write_glycoprotein_to_PDB('HIV_N262_man9.pdb')\u001b[39;00m\n",
      "File \u001b[0;32m~/Bioinformatics/glycosylator/src/glycosylator/glycosylator.py:227\u001b[0m, in \u001b[0;36mGlycosylator.glycosylate\u001b[0;34m(self, glycan, template_glycan, protein_residue, protein_link_patch, modify_glycoprotein)\u001b[0m\n\u001b[1;32m    224\u001b[0m \u001b[39melse\u001b[39;00m:\n\u001b[1;32m    225\u001b[0m     old_glycan_patches_to_i \u001b[39m=\u001b[39m \u001b[39mdict\u001b[39m()\n\u001b[0;32m--> 227\u001b[0m new_glycan, new_root_atom \u001b[39m=\u001b[39m \u001b[39mself\u001b[39;49m\u001b[39m.\u001b[39;49m_initialise_new_glycan(\n\u001b[1;32m    228\u001b[0m     glycan, template_topology, protein_residue, protein_link_patch\n\u001b[1;32m    229\u001b[0m )\n\u001b[1;32m    230\u001b[0m new_glycan_graph \u001b[39m=\u001b[39m ResidueGraph\u001b[39m.\u001b[39mfrom_AtomGroup(new_glycan, new_root_atom)\n\u001b[1;32m    231\u001b[0m \u001b[39m# new_glycan_patches_to_i = {\u001b[39;00m\n\u001b[1;32m    232\u001b[0m \u001b[39m#     path.patches: i\u001b[39;00m\n\u001b[1;32m    233\u001b[0m \u001b[39m#     for i, path in enumerate(new_glycan_graph.to_glycan_topology())\u001b[39;00m\n\u001b[1;32m    234\u001b[0m \u001b[39m# }\u001b[39;00m\n",
      "File \u001b[0;32m~/Bioinformatics/glycosylator/src/glycosylator/glycosylator.py:359\u001b[0m, in \u001b[0;36mGlycosylator._initialise_new_glycan\u001b[0;34m(self, glycan, template_topology, protein_residue, protein_link_patch)\u001b[0m\n\u001b[1;32m    352\u001b[0m \u001b[39mif\u001b[39;00m glycan\u001b[39m.\u001b[39mroot_residue \u001b[39m==\u001b[39m protein_residue:\n\u001b[1;32m    353\u001b[0m     \u001b[39m# new_root_atom = new_glycan.select(\u001b[39;00m\n\u001b[1;32m    354\u001b[0m     \u001b[39m#     f\"name {glycan.root_atom.getName()}\"\u001b[39;00m\n\u001b[1;32m    355\u001b[0m     \u001b[39m# ).__next__()\u001b[39;00m\n\u001b[1;32m    356\u001b[0m     res \u001b[39m=\u001b[39m glycan\u001b[39m.\u001b[39mresidue_graph\u001b[39m.\u001b[39mneighbors(\n\u001b[1;32m    357\u001b[0m         glycan\u001b[39m.\u001b[39mresidue_graph\u001b[39m.\u001b[39mgraph[\u001b[39m\"\u001b[39m\u001b[39mroot_residue_index\u001b[39m\u001b[39m\"\u001b[39m]\n\u001b[1;32m    358\u001b[0m     )\u001b[39m.\u001b[39m\u001b[39m__next__\u001b[39m()\n\u001b[0;32m--> 359\u001b[0m     new_glycan \u001b[39m=\u001b[39m \u001b[39mself\u001b[39;49m\u001b[39m.\u001b[39;49mbuilder\u001b[39m.\u001b[39;49mresidue_repair(res)\u001b[39m.\u001b[39mgetAtomGroup()\n\u001b[1;32m    360\u001b[0m     new_root_atom \u001b[39m=\u001b[39m new_glycan\u001b[39m.\u001b[39mselect(\u001b[39m\"\u001b[39m\u001b[39mname C1\u001b[39m\u001b[39m\"\u001b[39m)\u001b[39m.\u001b[39miterAtoms()\u001b[39m.\u001b[39m\u001b[39m__next__\u001b[39m()\n\u001b[1;32m    361\u001b[0m \u001b[39m# the case of glycosylating an amino acid with a provided glycan against a template is complicated\u001b[39;00m\n\u001b[1;32m    362\u001b[0m \u001b[39m# because two separate things need to be done:\u001b[39;00m\n\u001b[1;32m    363\u001b[0m \u001b[39m#   glycan needs to be fixed against template <- no problem\u001b[39;00m\n\u001b[1;32m    364\u001b[0m \u001b[39m#   glycan needs to be patched onto the residue, preserving experimental ICs <- currently, can only patch using theoretical ICs\u001b[39;00m\n\u001b[1;32m    365\u001b[0m \u001b[39m#   - essentially, need the functionality to rotate and translate glycan in space to be close enough to protein_residue\u001b[39;00m\n\u001b[1;32m    366\u001b[0m \u001b[39melse\u001b[39;00m:\n",
      "File \u001b[0;32m~/Bioinformatics/glycosylator/src/glycosylator/molecule_builder.py:467\u001b[0m, in \u001b[0;36mHighLevelBuilder.residue_repair\u001b[0;34m(self, residue)\u001b[0m\n\u001b[1;32m    465\u001b[0m \u001b[39mdef\u001b[39;00m \u001b[39mresidue_repair\u001b[39m(\u001b[39mself\u001b[39m, residue) \u001b[39m-\u001b[39m\u001b[39m>\u001b[39m prody\u001b[39m.\u001b[39mResidue:\n\u001b[1;32m    466\u001b[0m     resnum, chain, segname \u001b[39m=\u001b[39m (\n\u001b[0;32m--> 467\u001b[0m         residue\u001b[39m.\u001b[39;49mgetResnum(),\n\u001b[1;32m    468\u001b[0m         residue\u001b[39m.\u001b[39mgetChid(),\n\u001b[1;32m    469\u001b[0m         residue\u001b[39m.\u001b[39mgetSegname(),\n\u001b[1;32m    470\u001b[0m     )\n\u001b[1;32m    471\u001b[0m     \u001b[39m# build new complete residue\u001b[39;00m\n\u001b[1;32m    472\u001b[0m     new_residue, missing_atoms, bonds \u001b[39m=\u001b[39m \u001b[39mself\u001b[39m\u001b[39m.\u001b[39mbuilder\u001b[39m.\u001b[39mfind_missing_atoms(\n\u001b[1;32m    473\u001b[0m         residue, resnum, chain, segname\n\u001b[1;32m    474\u001b[0m     )\n",
      "\u001b[0;31mAttributeError\u001b[0m: 'numpy.int64' object has no attribute 'getResnum'"
     ]
    }
   ],
   "source": [
    "protein_residue = hiv_env[('G', 262)]\n",
    "original_glycan = g.find_glycan(protein_residue)\n",
    "\n",
    "new_glycan = g.glycosylate(original_glycan, 'MAN9_3;4,2', protein_residue, 'NGLB')\n",
    "# export glycoprotein as pdb if desired\n",
    "# g.write_glycoprotein_to_PDB('HIV_N262_man9.pdb')\n",
    "\n"
   ]
  },
  {
   "cell_type": "code",
   "execution_count": 9,
   "metadata": {},
   "outputs": [
    {
     "data": {
      "text/plain": [
       "780"
      ]
     },
     "execution_count": 9,
     "metadata": {},
     "output_type": "execute_result"
    }
   ],
   "source": [
    "x = hiv_env.select('not protein').toAtomGroup().inferBonds()\n",
    "len(x)"
   ]
  },
  {
   "cell_type": "code",
   "execution_count": 10,
   "metadata": {},
   "outputs": [
    {
     "data": {
      "text/plain": [
       "<Selection: '(not protein an...11 618 625 637)' from env_4tvp (935 atoms)>"
      ]
     },
     "execution_count": 10,
     "metadata": {},
     "output_type": "execute_result"
    }
   ],
   "source": [
    "prody.g._glycans_and_links_sel"
   ]
  },
  {
   "cell_type": "code",
   "execution_count": 15,
   "metadata": {},
   "outputs": [],
   "source": [
    "tree = prody.KDTree(g._glycans_and_links_sel.getCoords())\n",
    "tree.search(1.7)"
   ]
  },
  {
   "cell_type": "code",
   "execution_count": 18,
   "metadata": {},
   "outputs": [
    {
     "data": {
      "text/plain": [
       "array([[112, 113],\n",
       "       [122, 121],\n",
       "       [471, 470],\n",
       "       ...,\n",
       "       [871, 866],\n",
       "       [872, 871],\n",
       "       [877, 872]])"
      ]
     },
     "execution_count": 18,
     "metadata": {},
     "output_type": "execute_result"
    }
   ],
   "source": [
    "tree.getIndices()"
   ]
  },
  {
   "cell_type": "code",
   "execution_count": 19,
   "metadata": {},
   "outputs": [],
   "source": [
    "import networkx as nx"
   ]
  },
  {
   "cell_type": "code",
   "execution_count": 22,
   "metadata": {},
   "outputs": [
    {
     "name": "stdout",
     "output_type": "stream",
     "text": [
      "935\n"
     ]
    }
   ],
   "source": [
    "g = nx.Graph()\n",
    "g.add_edges_from(tree.getIndices())"
   ]
  },
  {
   "cell_type": "code",
   "execution_count": 26,
   "metadata": {},
   "outputs": [
    {
     "name": "stdout",
     "output_type": "stream",
     "text": [
      "[36, 36, 91, 80, 36, 69, 36, 36, 22, 22, 22, 8, 22, 8, 36, 22, 47, 36, 124, 58, 36, 22, 22, 8]\n"
     ]
    }
   ],
   "source": [
    "print([len(c) for c in nx.connected_components(g)])"
   ]
  },
  {
   "cell_type": "code",
   "execution_count": 28,
   "metadata": {},
   "outputs": [],
   "source": [
    "glycan_graphs = [\n",
    "            g.subgraph(c).copy()\n",
    "            for c in nx.connected_components(g)\n",
    "        ]"
   ]
  },
  {
   "cell_type": "code",
   "execution_count": 29,
   "metadata": {},
   "outputs": [
    {
     "name": "stdout",
     "output_type": "stream",
     "text": [
      "[36, 36, 91, 80, 36, 69, 36, 36, 22, 22, 22, 8, 22, 8, 36, 22, 47, 36, 124, 58, 36, 22, 22, 8]\n"
     ]
    }
   ],
   "source": [
    "print([len(x) for x in glycan_graphs])"
   ]
  },
  {
   "cell_type": "code",
   "execution_count": 37,
   "metadata": {},
   "outputs": [],
   "source": [
    "t = g._glycans_and_links_sel.toAtomGroup()"
   ]
  },
  {
   "cell_type": "code",
   "execution_count": 38,
   "metadata": {},
   "outputs": [
    {
     "data": {
      "text/plain": [
       "969"
      ]
     },
     "execution_count": 38,
     "metadata": {},
     "output_type": "execute_result"
    }
   ],
   "source": [
    "len(t.inferBonds())"
   ]
  },
  {
   "cell_type": "code",
   "execution_count": 41,
   "metadata": {},
   "outputs": [],
   "source": [
    "G = nx.Graph()\n",
    "G.add_edges_from([bond.getIndices() for bond in t.getBonds()])"
   ]
  },
  {
   "cell_type": "code",
   "execution_count": 44,
   "metadata": {},
   "outputs": [
    {
     "data": {
      "text/plain": [
       "[91,\n",
       " 22,\n",
       " 58,\n",
       " 69,\n",
       " 36,\n",
       " 36,\n",
       " 36,\n",
       " 80,\n",
       " 22,\n",
       " 36,\n",
       " 36,\n",
       " 124,\n",
       " 22,\n",
       " 22,\n",
       " 36,\n",
       " 36,\n",
       " 36,\n",
       " 8,\n",
       " 47,\n",
       " 8,\n",
       " 22,\n",
       " 22,\n",
       " 8,\n",
       " 22]"
      ]
     },
     "execution_count": 44,
     "metadata": {},
     "output_type": "execute_result"
    }
   ],
   "source": [
    "[len(c) for c in nx.connected_components(G)]"
   ]
  },
  {
   "cell_type": "code",
   "execution_count": 3,
   "metadata": {},
   "outputs": [
    {
     "name": "stderr",
     "output_type": "stream",
     "text": [
      "@> 5309 atoms and 1 coordinate set(s) were parsed in 0.05s.\n"
     ]
    }
   ],
   "source": [
    "g.load_glycoprotein_from_PDB('support/examples/env_4tvp.pdb')"
   ]
  },
  {
   "cell_type": "code",
   "execution_count": 4,
   "metadata": {},
   "outputs": [
    {
     "ename": "AttributeError",
     "evalue": "'NoneType' object has no attribute 'iterAtoms'",
     "output_type": "error",
     "traceback": [
      "\u001b[0;31m---------------------------------------------------------------------------\u001b[0m",
      "\u001b[0;31mAttributeError\u001b[0m                            Traceback (most recent call last)",
      "Cell \u001b[0;32mIn [4], line 1\u001b[0m\n\u001b[0;32m----> 1\u001b[0m g\u001b[39m.\u001b[39;49mfind_existing_glycans()\n",
      "File \u001b[0;32m~/Bioinformatics/glycosylator/src/glycosylator/glycosylator.py:86\u001b[0m, in \u001b[0;36mGlycosylator.find_existing_glycans\u001b[0;34m(self, freeze_bonds)\u001b[0m\n\u001b[1;32m     83\u001b[0m selection \u001b[39m=\u001b[39m \u001b[39mself\u001b[39m\u001b[39m.\u001b[39mglycoprotein\u001b[39m.\u001b[39mselect(sel_string)\n\u001b[1;32m     85\u001b[0m \u001b[39m# the selection contains only one amino acid, so this returns just one atom\u001b[39;00m\n\u001b[0;32m---> 86\u001b[0m root_atom \u001b[39m=\u001b[39m \u001b[39mnext\u001b[39m(selection\u001b[39m.\u001b[39;49mselect(\u001b[39m\"\u001b[39;49m\u001b[39mprotein and name CA\u001b[39;49m\u001b[39m\"\u001b[39;49m)\u001b[39m.\u001b[39;49miterAtoms())\n\u001b[1;32m     87\u001b[0m glycan \u001b[39m=\u001b[39m Molecule(selection, root_atom\u001b[39m=\u001b[39mroot_atom)\n\u001b[1;32m     88\u001b[0m \u001b[39mif\u001b[39;00m freeze_bonds:\n",
      "\u001b[0;31mAttributeError\u001b[0m: 'NoneType' object has no attribute 'iterAtoms'"
     ]
    }
   ],
   "source": [
    "g.find_existing_glycans()"
   ]
  },
  {
   "cell_type": "code",
   "execution_count": 9,
   "metadata": {},
   "outputs": [
    {
     "data": {
      "text/plain": [
       "(array([99]),)"
      ]
     },
     "execution_count": 9,
     "metadata": {},
     "output_type": "execute_result"
    }
   ],
   "source": [
    "np.where(g.glycoprotein.getSerials() == 100)"
   ]
  },
  {
   "cell_type": "code",
   "execution_count": 8,
   "metadata": {},
   "outputs": [],
   "source": [
    "import numpy as np"
   ]
  },
  {
   "cell_type": "code",
   "execution_count": null,
   "metadata": {},
   "outputs": [],
   "source": []
  }
 ],
 "metadata": {
  "kernelspec": {
   "display_name": "Python 3.11.0 64-bit ('glycosylator3.11')",
   "language": "python",
   "name": "python3"
  },
  "language_info": {
   "codemirror_mode": {
    "name": "ipython",
    "version": 3
   },
   "file_extension": ".py",
   "mimetype": "text/x-python",
   "name": "python",
   "nbconvert_exporter": "python",
   "pygments_lexer": "ipython3",
   "version": "3.11.0"
  },
  "orig_nbformat": 4,
  "vscode": {
   "interpreter": {
    "hash": "c4d8a0aba6c286fa8f895b2a4c9d6c1e9707451f364d55e280ccabbbd2c44c74"
   }
  }
 },
 "nbformat": 4,
 "nbformat_minor": 2
}
