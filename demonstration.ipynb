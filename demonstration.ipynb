{
 "cells": [
  {
   "cell_type": "code",
   "execution_count": 1,
   "metadata": {},
   "outputs": [],
   "source": [
    "import glycosylator as gl"
   ]
  },
  {
   "cell_type": "markdown",
   "metadata": {},
   "source": [
    "## Demo 1: Molecule"
   ]
  },
  {
   "cell_type": "code",
   "execution_count": 2,
   "metadata": {},
   "outputs": [
    {
     "name": "stderr",
     "output_type": "stream",
     "text": [
      "@> 246 atoms and 1 coordinate set(s) were parsed in 0.00s.\n"
     ]
    }
   ],
   "source": [
    "man9 = gl.Molecule.from_PDB('support/examples/man9.pdb', 1)"
   ]
  },
  {
   "cell_type": "code",
   "execution_count": 3,
   "metadata": {},
   "outputs": [
    {
     "name": "stdout",
     "output_type": "stream",
     "text": [
      "Number of torsional angles: 236\n"
     ]
    }
   ],
   "source": [
    "print(f'Number of torsional angles: {len(man9.torsionals)}')"
   ]
  },
  {
   "cell_type": "code",
   "execution_count": 4,
   "metadata": {},
   "outputs": [
    {
     "name": "stdout",
     "output_type": "stream",
     "text": [
      "Torsional Angle Before: -85.3039552791497\n",
      "Torsional Angle After: -70.30395527914972\n",
      "Torsional Angle absolute set: 45.0000000000001\n"
     ]
    }
   ],
   "source": [
    "i = 10\n",
    "torsional = man9.torsionals[i]\n",
    "print(f'Torsional Angle Before: {man9.measure_dihedral_angle(torsional)}')\n",
    "\n",
    "man9.rotate_bond(torsional, 15, absolute=False)\n",
    "print(f'Torsional Angle After: {man9.measure_dihedral_angle(torsional)}')\n",
    "\n",
    "man9.rotate_bond(torsional, 45, absolute=True)\n",
    "print(f'Torsional Angle absolute set: {man9.measure_dihedral_angle(torsional)}')"
   ]
  },
  {
   "cell_type": "markdown",
   "metadata": {},
   "source": [
    "## Demo 2: Builder"
   ]
  },
  {
   "cell_type": "code",
   "execution_count": 5,
   "metadata": {},
   "outputs": [],
   "source": [
    "import glycosylator as gl\n",
    "import prody"
   ]
  },
  {
   "cell_type": "code",
   "execution_count": 6,
   "metadata": {},
   "outputs": [],
   "source": [
    "topo_path = 'support/toppar_charmm/carbohydrates.rtf'\n",
    "prm_path = 'support/toppar_charmm/carbohydrates.prm'\n",
    "builder = gl.MoleculeBuilder(topo_path, prm_path)"
   ]
  },
  {
   "cell_type": "code",
   "execution_count": 7,
   "metadata": {},
   "outputs": [
    {
     "name": "stderr",
     "output_type": "stream",
     "text": [
      "@> 30 atoms and 1 coordinate set(s) were parsed in 0.00s.\n"
     ]
    }
   ],
   "source": [
    "nag = prody.parsePDB('support/examples/NAG.pdb')"
   ]
  },
  {
   "cell_type": "code",
   "execution_count": 8,
   "metadata": {},
   "outputs": [],
   "source": [
    "nag = nag.select('not serial 4 9').toAtomGroup()"
   ]
  },
  {
   "cell_type": "code",
   "execution_count": 9,
   "metadata": {},
   "outputs": [],
   "source": [
    "nag_complete, missing_atoms, bonds = builder.find_missing_atoms(nag)\n",
    "builder.build_missing_atom_coord(nag_complete, missing_atoms, builder.Topology.topology['NAG']['IC'])"
   ]
  },
  {
   "cell_type": "code",
   "execution_count": 10,
   "metadata": {},
   "outputs": [],
   "source": [
    "nag2, del_atoms, bonds2 = builder.build_from_patch(nag_complete, 2, 'NAG', 'G', 'G1', '14bb')"
   ]
  },
  {
   "cell_type": "code",
   "execution_count": 11,
   "metadata": {},
   "outputs": [],
   "source": [
    "nag_complete = builder.delete_atoms(nag_complete, del_atoms)\n",
    "nag2 = builder.delete_atoms(nag2, del_atoms)\n",
    "nag_complete += nag2"
   ]
  },
  {
   "cell_type": "code",
   "execution_count": 12,
   "metadata": {},
   "outputs": [],
   "source": [
    "builder.Topology.read_topology('support/topology/DUMMY.top')\n",
    "man, del_atoms, bond_man = builder.build_from_DUMMY(1, 'MAN', 'G', '1G', 'DUMMY_MAN')"
   ]
  },
  {
   "cell_type": "markdown",
   "metadata": {},
   "source": [
    "## Demo 3: Glycosylating Glycans"
   ]
  },
  {
   "cell_type": "code",
   "execution_count": 1,
   "metadata": {},
   "outputs": [
    {
     "data": {
      "application/vnd.jupyter.widget-view+json": {
       "model_id": "4a198dfa0adf4b098b150a962cd8441a",
       "version_major": 2,
       "version_minor": 0
      },
      "text/plain": []
     },
     "metadata": {},
     "output_type": "display_data"
    }
   ],
   "source": [
    "import glycosylator as gl\n",
    "import nglview as nv\n",
    "import prody"
   ]
  },
  {
   "cell_type": "code",
   "execution_count": 2,
   "metadata": {},
   "outputs": [],
   "source": [
    "topo_path = 'support/toppar_charmm/carbohydrates.rtf'\n",
    "prm_path = 'support/toppar_charmm/carbohydrates.prm'\n",
    "g = gl.Glycosylator(\n",
    "    topo_path,\n",
    "    prm_path\n",
    ")\n",
    "g.load_glycan_topologies('support/topology/man9.top')\n",
    "g.builder.Topology.read_topology('support/topology/DUMMY.top')"
   ]
  },
  {
   "cell_type": "code",
   "execution_count": 3,
   "metadata": {},
   "outputs": [],
   "source": [
    "de_novo_man9 = g.glycosylate(None, 'MAN9')"
   ]
  },
  {
   "cell_type": "code",
   "execution_count": 4,
   "metadata": {},
   "outputs": [
    {
     "name": "stderr",
     "output_type": "stream",
     "text": [
      "@> 246 atoms and 1 coordinate set(s) were parsed in 0.00s.\n"
     ]
    },
    {
     "name": "stdout",
     "output_type": "stream",
     "text": [
      "Expected number of residue for man9: 11\n",
      "man9 has 11 residues\n",
      "Expected number of residue for man6: 8\n",
      "man6 has 8 residues\n"
     ]
    }
   ],
   "source": [
    "g.load_glycan_topologies('support/topology/mannose.top')\n",
    "\n",
    "man9 = gl.Molecule.from_PDB('support/examples/man9.pdb', 1)\n",
    "g.assign_patches(man9)\n",
    "print(f\"Expected number of residue for man9: {len(g.glycan_topologies['MAN9'])}\")\n",
    "print(f'man9 has {len(man9.residue_graph)} residues')\n",
    "\n",
    "# trim man9 down to man6\n",
    "man6 = g.glycosylate(man9, 'MAN6_1;3,2')\n",
    "print(f\"Expected number of residue for man6: {len(g.glycan_topologies['MAN6_1;3,2'])}\")\n",
    "print(f'man6 has {len(man6.residue_graph)} residues')"
   ]
  },
  {
   "cell_type": "code",
   "execution_count": 5,
   "metadata": {},
   "outputs": [
    {
     "name": "stdout",
     "output_type": "stream",
     "text": [
      "Expected number of residue for man8: 10\n",
      "man8 has 10 residues\n"
     ]
    }
   ],
   "source": [
    "# extend man6 to man8\n",
    "man8 = g.glycosylate(man6, 'MAN8_2;4,2')\n",
    "print(f\"Expected number of residue for man8: {len(g.glycan_topologies['MAN8_2;4,2'])}\")\n",
    "print(f'man8 has {len(man8.residue_graph)} residues')"
   ]
  },
  {
   "cell_type": "code",
   "execution_count": 10,
   "metadata": {},
   "outputs": [
    {
     "name": "stdout",
     "output_type": "stream",
     "text": [
      "Expected number of residue for manual_glycan: 8\n",
      "manual_glycan has 8 residues\n"
     ]
    }
   ],
   "source": [
    "patch_paths = [\n",
    "    'NAG',\n",
    "    'NAG C1 14bb',\n",
    "    'BMA C1 14bb 14bb',\n",
    "    'MAN C1 14bb 14bb 16ab',\n",
    "    'MAN C1 14bb 14bb 16ab 16ab',\n",
    "    'MAN C1 14bb 14bb 16ab 13ab',\n",
    "    'MAN C1 14bb 14bb 16ab 13ab 12aa',\n",
    "    'MAN C1 14bb 14bb 13ab'\n",
    "]\n",
    "manual_glycan_topo = gl.glycan_representations.GlycanTopology.from_patch_strings('custom_glycan', patch_paths)\n",
    "manual_glycan = g.glycosylate(None, manual_glycan_topo)\n",
    "print(f\"Expected number of residue for manual_glycan: {len(manual_glycan_topo)}\")\n",
    "print(f'manual_glycan has {len(manual_glycan.residue_graph)} residues')\n",
    "# save glycan if desired\n",
    "# manual_glycan.write_PDB('manual_glycan.pdb')"
   ]
  },
  {
   "cell_type": "markdown",
   "metadata": {},
   "source": [
    "## Demo 4: Glycosylating Protein"
   ]
  },
  {
   "cell_type": "code",
   "execution_count": 1,
   "metadata": {},
   "outputs": [
    {
     "data": {
      "application/vnd.jupyter.widget-view+json": {
       "model_id": "c52f27954c0745f59213ccd2e68f75af",
       "version_major": 2,
       "version_minor": 0
      },
      "text/plain": []
     },
     "metadata": {},
     "output_type": "display_data"
    }
   ],
   "source": [
    "import glycosylator as gl\n",
    "import nglview as nv\n",
    "import prody"
   ]
  },
  {
   "cell_type": "code",
   "execution_count": 2,
   "metadata": {},
   "outputs": [],
   "source": [
    "topo_path = 'support/toppar_charmm/carbohydrates.rtf'\n",
    "prm_path = 'support/toppar_charmm/carbohydrates.prm'\n",
    "dummy_top = 'support/topology/DUMMY.top'\n",
    "man_top = 'support/topology/mannose.top'\n",
    "g = gl.Glycosylator(\n",
    "    topo_path,\n",
    "    prm_path\n",
    ")\n",
    "g.load_glycan_topologies(man_top)"
   ]
  },
  {
   "cell_type": "code",
   "execution_count": 3,
   "metadata": {},
   "outputs": [
    {
     "name": "stderr",
     "output_type": "stream",
     "text": [
      "@> 5309 atoms and 1 coordinate set(s) were parsed in 0.05s.\n"
     ]
    }
   ],
   "source": [
    "hiv_env = prody.parsePDB('support/examples/env_4tvp.pdb')\n",
    "# Residue number 625 on chain B\n",
    "protein_residue = hiv_env[('B', 625)]\n",
    "\n",
    "man8 = g.glycosylate(None, 'MAN8_3;3,2', protein_residue=protein_residue, protein_link_patch='NGLB')"
   ]
  },
  {
   "cell_type": "code",
   "execution_count": 13,
   "metadata": {},
   "outputs": [
    {
     "data": {
      "text/plain": [
       "array([[-279.197, -125.058,   36.725],\n",
       "       [-279.627, -123.902,   35.946],\n",
       "       [-278.83 , -123.749,   34.655],\n",
       "       [-278.782, -122.668,   34.068],\n",
       "       [-279.512, -122.625,   36.786],\n",
       "       [-280.296, -121.465,   36.201],\n",
       "       [-281.228, -121.661,   35.421],\n",
       "       [-279.917, -120.247,   36.57 ]])"
      ]
     },
     "execution_count": 13,
     "metadata": {},
     "output_type": "execute_result"
    }
   ],
   "source": [
    "man8.residue_graph.nodes[10]['residue'].getCoords()"
   ]
  },
  {
   "cell_type": "code",
   "execution_count": 25,
   "metadata": {},
   "outputs": [
    {
     "data": {
      "text/plain": [
       "array([0., 0., 0., 0., 0., 0., 0., 0., 0., 0., 0., 0., 0., 0., 0., 0., 0.,\n",
       "       0., 0., 0., 0., 0., 0., 0., 0., 0., 0., 0., 0., 0., 0., 0., 0., 0.,\n",
       "       0., 0., 0., 0., 0., 0., 0., 0., 0., 0., 0., 0., 0., 0., 0., 0., 0.,\n",
       "       0., 0., 0., 0., 0., 0., 0., 0., 0., 0., 0., 0., 0., 0., 0., 0., 0.,\n",
       "       0., 0., 0., 0., 0., 0., 0., 0., 0., 0., 0., 0., 0., 0., 0., 0., 0.,\n",
       "       0., 0., 0., 0., 0., 0., 0., 0., 0., 0., 0., 0., 0., 0., 0., 0., 0.,\n",
       "       0., 0., 0., 0., 0., 0., 0., 0., 0., 0., 0., 0., 0., 0., 0., 0., 0.,\n",
       "       0., 0., 0., 0., 0., 0., 0., 0., 0., 0., 0., 0., 0., 0., 0., 0., 0.,\n",
       "       0., 0., 0., 0., 0., 0., 0., 0., 0., 0., 0., 0., 0., 0., 0., 0., 0.,\n",
       "       0., 0., 0., 0., 0., 0., 0., 0., 0., 0., 0., 0., 0., 0., 0., 0., 0.,\n",
       "       0., 0., 0., 0., 0., 0., 0., 0., 0., 0., 0., 0., 0., 0., 0., 0., 0.,\n",
       "       0., 0., 0., 0., 0., 0., 0., 0., 0., 0., 0., 0., 0., 0., 0., 0., 0.,\n",
       "       0., 0., 0., 0., 0., 0., 0., 0., 0., 0., 0., 0., 0., 0., 0., 0., 0.,\n",
       "       0., 0., 0., 0., 0., 0., 0., 0., 0., 0.])"
      ]
     },
     "execution_count": 25,
     "metadata": {},
     "output_type": "execute_result"
    }
   ],
   "source": [
    "man8.atom_group.getBetas()"
   ]
  },
  {
   "cell_type": "code",
   "execution_count": 20,
   "metadata": {},
   "outputs": [],
   "source": [
    "man8.write_PDB('bruh')"
   ]
  },
  {
   "cell_type": "code",
   "execution_count": 26,
   "metadata": {},
   "outputs": [],
   "source": [
    "v = nv.show_prody(man8.atom_group)\n",
    "v.add_licorice(selection='all')\n",
    "\n",
    "## WEIRD BUG WHERE ASN IS HIDDEN FSR, even after export. ASN is still there tho"
   ]
  },
  {
   "cell_type": "code",
   "execution_count": null,
   "metadata": {},
   "outputs": [],
   "source": [
    "g.load_glycoprotein_from_AtomGroup(hiv_env)\n",
    "# List of identified residues that are part of a sequon\n",
    "sequons = g.find_linking_residues(sequon_pattern=\"(N[^P][S|T])\")\n",
    "# List of existing glycans, each containing an amino acid at the root\n",
    "glycans = g.find_existing_glycans()\n",
    "for glycan in glycans:\n",
    "    root_res = glycan.residue_graph.graph[\"root_residue\"]\n",
    "    glycan_name = g.identify_glycan(glycan)\n",
    "    print(f\"Root residue: {root_res.getResname()} {root_res.getResnum()}{root_res.getChindex()} -> {glycan_name}\")\n"
   ]
  },
  {
   "cell_type": "code",
   "execution_count": null,
   "metadata": {},
   "outputs": [],
   "source": [
    "protein_residue = hiv_env[('G', 262)]\n",
    "original_glycan = g.find_glycan(protein_residue)\n",
    "\n",
    "new_glycan = g.glycosylate(original_glycan, 'MAN9_3;4,2', protein_residue, 'NGLB', in_place=True)\n",
    "# export glycoprotein as pdb if desired\n",
    "# g.write_glycoprotein_to_PDB('HIV_N262_man9.pdb')\n",
    "\n"
   ]
  }
 ],
 "metadata": {
  "kernelspec": {
   "display_name": "Python 3.11.0 64-bit ('glycosylator3.11')",
   "language": "python",
   "name": "python3"
  },
  "language_info": {
   "codemirror_mode": {
    "name": "ipython",
    "version": 3
   },
   "file_extension": ".py",
   "mimetype": "text/x-python",
   "name": "python",
   "nbconvert_exporter": "python",
   "pygments_lexer": "ipython3",
   "version": "3.11.0 (main, Oct 25 2022, 19:07:11) [Clang 14.0.0 (clang-1400.0.29.102)]"
  },
  "orig_nbformat": 4,
  "vscode": {
   "interpreter": {
    "hash": "c4d8a0aba6c286fa8f895b2a4c9d6c1e9707451f364d55e280ccabbbd2c44c74"
   }
  }
 },
 "nbformat": 4,
 "nbformat_minor": 2
}
