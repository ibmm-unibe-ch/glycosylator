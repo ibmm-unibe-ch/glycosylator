{
 "cells": [
  {
   "cell_type": "code",
   "execution_count": 1,
   "metadata": {},
   "outputs": [],
   "source": [
    "import glycosylator as gl"
   ]
  },
  {
   "cell_type": "markdown",
   "metadata": {},
   "source": [
    "## Demo 1: Molecule"
   ]
  },
  {
   "cell_type": "code",
   "execution_count": 2,
   "metadata": {},
   "outputs": [
    {
     "name": "stderr",
     "output_type": "stream",
     "text": [
      "@> 246 atoms and 1 coordinate set(s) were parsed in 0.01s.\n"
     ]
    }
   ],
   "source": [
    "man9 = gl.Molecule.from_PDB('support/examples/man9.pdb', 1)"
   ]
  },
  {
   "cell_type": "code",
   "execution_count": 3,
   "metadata": {},
   "outputs": [
    {
     "name": "stdout",
     "output_type": "stream",
     "text": [
      "Number of torsional angles: 236\n"
     ]
    }
   ],
   "source": [
    "print(f'Number of torsional angles: {len(man9.torsionals)}')"
   ]
  },
  {
   "cell_type": "code",
   "execution_count": 4,
   "metadata": {},
   "outputs": [
    {
     "name": "stdout",
     "output_type": "stream",
     "text": [
      "Torsional Angle Before: -85.3039552791497\n",
      "Torsional Angle After: -70.30395527914972\n",
      "Torsional Angle absolute set: 45.0000000000001\n"
     ]
    }
   ],
   "source": [
    "i = 10\n",
    "torsional = man9.torsionals[i]\n",
    "print(f'Torsional Angle Before: {man9.measure_dihedral_angle(torsional)}')\n",
    "\n",
    "man9.rotate_bond(torsional, 15, absolute=False)\n",
    "print(f'Torsional Angle After: {man9.measure_dihedral_angle(torsional)}')\n",
    "\n",
    "man9.rotate_bond(torsional, 45, absolute=True)\n",
    "print(f'Torsional Angle absolute set: {man9.measure_dihedral_angle(torsional)}')"
   ]
  },
  {
   "cell_type": "markdown",
   "metadata": {},
   "source": [
    "## Demo 2: Builder"
   ]
  },
  {
   "cell_type": "code",
   "execution_count": 5,
   "metadata": {},
   "outputs": [],
   "source": [
    "import glycosylator as gl\n",
    "import prody"
   ]
  },
  {
   "cell_type": "code",
   "execution_count": 6,
   "metadata": {},
   "outputs": [],
   "source": [
    "topo_path = 'support/toppar_charmm/carbohydrates.rtf'\n",
    "prm_path = 'support/toppar_charmm/carbohydrates.prm'\n",
    "builder = gl.MoleculeBuilder(topo_path, prm_path)"
   ]
  },
  {
   "cell_type": "code",
   "execution_count": 7,
   "metadata": {},
   "outputs": [
    {
     "name": "stderr",
     "output_type": "stream",
     "text": [
      "@> 30 atoms and 1 coordinate set(s) were parsed in 0.00s.\n"
     ]
    }
   ],
   "source": [
    "nag = prody.parsePDB('support/examples/NAG.pdb')"
   ]
  },
  {
   "cell_type": "code",
   "execution_count": 8,
   "metadata": {},
   "outputs": [],
   "source": [
    "nag = nag.select('not serial 4 9').toAtomGroup()"
   ]
  },
  {
   "cell_type": "code",
   "execution_count": 9,
   "metadata": {},
   "outputs": [],
   "source": [
    "nag_complete, missing_atoms, bonds = builder.find_missing_atoms(nag)\n",
    "builder.build_missing_atom_coord(nag_complete, missing_atoms, builder.Topology.topology['NAG']['IC'])"
   ]
  },
  {
   "cell_type": "code",
   "execution_count": 10,
   "metadata": {},
   "outputs": [],
   "source": [
    "nag2, del_atoms, bonds2 = builder.build_from_patch(nag_complete, 2, 'NAG', 'G', 'G1', '14bb')"
   ]
  },
  {
   "cell_type": "code",
   "execution_count": 11,
   "metadata": {},
   "outputs": [],
   "source": [
    "nag_complete = builder.delete_atoms(nag_complete, del_atoms)\n",
    "nag2 = builder.delete_atoms(nag2, del_atoms)\n",
    "nag_complete += nag2"
   ]
  },
  {
   "cell_type": "code",
   "execution_count": 12,
   "metadata": {},
   "outputs": [],
   "source": [
    "builder.Topology.read_topology('support/topology/DUMMY.top')\n",
    "man, del_atoms, bond_man = builder.build_from_DUMMY(1, 'MAN', 'G', '1G', 'DUMMY_MAN')"
   ]
  },
  {
   "cell_type": "markdown",
   "metadata": {},
   "source": [
    "## Demo 3: Glycosylating Glycans"
   ]
  },
  {
   "cell_type": "code",
   "execution_count": 13,
   "metadata": {},
   "outputs": [
    {
     "data": {
      "application/vnd.jupyter.widget-view+json": {
       "model_id": "21c7c46327304239a557cb57e70126ce",
       "version_major": 2,
       "version_minor": 0
      },
      "text/plain": []
     },
     "metadata": {},
     "output_type": "display_data"
    }
   ],
   "source": [
    "import glycosylator as gl\n",
    "import nglview as nv\n",
    "import prody"
   ]
  },
  {
   "cell_type": "code",
   "execution_count": 14,
   "metadata": {},
   "outputs": [],
   "source": [
    "topo_path = 'support/toppar_charmm/carbohydrates.rtf'\n",
    "prm_path = 'support/toppar_charmm/carbohydrates.prm'\n",
    "g = gl.Glycosylator(\n",
    "    topo_path,\n",
    "    prm_path\n",
    ")\n",
    "g.load_glycan_topologies('support/topology/man9.top')\n",
    "g.builder.Topology.read_topology('support/topology/DUMMY.top')"
   ]
  },
  {
   "cell_type": "code",
   "execution_count": 15,
   "metadata": {},
   "outputs": [
    {
     "name": "stdout",
     "output_type": "stream",
     "text": [
      "Expected number of residue for de_novo_man9: 11\n",
      "de_novo_man9 has 11 residues\n"
     ]
    }
   ],
   "source": [
    "de_novo_man9 = g.glycosylate(None, 'MAN9')\n",
    "print(f\"Expected number of residue for de_novo_man9: {len(g.glycan_topologies['MAN9'])}\")\n",
    "print(f'de_novo_man9 has {len(de_novo_man9.residue_graph)} residues')"
   ]
  },
  {
   "cell_type": "code",
   "execution_count": 16,
   "metadata": {},
   "outputs": [
    {
     "name": "stderr",
     "output_type": "stream",
     "text": [
      "@> 246 atoms and 1 coordinate set(s) were parsed in 0.00s.\n"
     ]
    },
    {
     "name": "stdout",
     "output_type": "stream",
     "text": [
      "Expected number of residue for man9: 11\n",
      "man9 has 11 residues\n"
     ]
    }
   ],
   "source": [
    "g.load_glycan_topologies('support/topology/mannose.top')\n",
    "\n",
    "man9 = gl.Molecule.from_PDB('support/examples/man9.pdb', 1)\n",
    "g.assign_patches(man9)\n",
    "print(f\"Expected number of residue for man9: {len(g.glycan_topologies['MAN9'])}\")\n",
    "print(f'man9 has {len(man9.residue_graph)} residues')"
   ]
  },
  {
   "cell_type": "code",
   "execution_count": 17,
   "metadata": {},
   "outputs": [
    {
     "name": "stdout",
     "output_type": "stream",
     "text": [
      "Expected number of residue for man6: 8\n",
      "man6 has 8 residues\n"
     ]
    }
   ],
   "source": [
    "\n",
    "# trim man9 down to man6\n",
    "man6 = g.glycosylate(man9, 'MAN6_1;3,2')\n",
    "print(f\"Expected number of residue for man6: {len(g.glycan_topologies['MAN6_1;3,2'])}\")\n",
    "print(f'man6 has {len(man6.residue_graph)} residues')"
   ]
  },
  {
   "cell_type": "code",
   "execution_count": 18,
   "metadata": {},
   "outputs": [
    {
     "name": "stdout",
     "output_type": "stream",
     "text": [
      "Expected number of residue for man8: 10\n",
      "man8 has 10 residues\n"
     ]
    }
   ],
   "source": [
    "# extend man6 to man8\n",
    "man8 = g.glycosylate(man6, 'MAN8_2;4,2')\n",
    "print(f\"Expected number of residue for man8: {len(g.glycan_topologies['MAN8_2;4,2'])}\")\n",
    "print(f'man8 has {len(man8.residue_graph)} residues')"
   ]
  },
  {
   "cell_type": "code",
   "execution_count": 19,
   "metadata": {},
   "outputs": [
    {
     "name": "stdout",
     "output_type": "stream",
     "text": [
      "Expected number of residue for manual_glycan: 8\n",
      "manual_glycan has 8 residues\n"
     ]
    }
   ],
   "source": [
    "patch_paths = [\n",
    "    'NAG',\n",
    "    'NAG C1 14bb',\n",
    "    'BMA C1 14bb 14bb',\n",
    "    'MAN C1 14bb 14bb 16ab',\n",
    "    'MAN C1 14bb 14bb 16ab 16ab',\n",
    "    'MAN C1 14bb 14bb 16ab 13ab',\n",
    "    'MAN C1 14bb 14bb 16ab 13ab 12aa',\n",
    "    'MAN C1 14bb 14bb 13ab'\n",
    "]\n",
    "manual_glycan_topo = gl.glycan_representations.GlycanTopology.from_patch_strings('custom_glycan', patch_paths)\n",
    "manual_glycan = g.glycosylate(None, manual_glycan_topo)\n",
    "print(f\"Expected number of residue for manual_glycan: {len(manual_glycan_topo)}\")\n",
    "print(f'manual_glycan has {len(manual_glycan.residue_graph)} residues')\n",
    "# save glycan if desired\n",
    "# manual_glycan.write_PDB('manual_glycan.pdb')"
   ]
  },
  {
   "cell_type": "markdown",
   "metadata": {},
   "source": [
    "## Demo 4: Glycosylating Protein"
   ]
  },
  {
   "cell_type": "code",
   "execution_count": 20,
   "metadata": {},
   "outputs": [],
   "source": [
    "import glycosylator as gl\n",
    "import nglview as nv\n",
    "import prody"
   ]
  },
  {
   "cell_type": "code",
   "execution_count": 21,
   "metadata": {},
   "outputs": [],
   "source": [
    "topo_path = 'support/toppar_charmm/carbohydrates.rtf'\n",
    "prm_path = 'support/toppar_charmm/carbohydrates.prm'\n",
    "dummy_top = 'support/topology/DUMMY.top'\n",
    "man_top = 'support/topology/mannose.top'\n",
    "g = gl.Glycosylator(\n",
    "    topo_path,\n",
    "    prm_path\n",
    ")\n",
    "g.load_glycan_topologies(man_top)"
   ]
  },
  {
   "cell_type": "code",
   "execution_count": 22,
   "metadata": {},
   "outputs": [
    {
     "name": "stderr",
     "output_type": "stream",
     "text": [
      "@> 5309 atoms and 1 coordinate set(s) were parsed in 0.06s.\n"
     ]
    },
    {
     "data": {
      "text/plain": [
       "'UnknownGlycan'"
      ]
     },
     "execution_count": 22,
     "metadata": {},
     "output_type": "execute_result"
    }
   ],
   "source": [
    "hiv_env = prody.parsePDB('support/examples/env_4tvp.pdb')\n",
    "# Residue number 625 on chain B\n",
    "protein_residue = hiv_env[('B', 625)]\n",
    "\n",
    "man8 = g.glycosylate(None, 'MAN8_3;3,2', protein_residue=protein_residue, protein_link_patch='NGLB')\n",
    "g.identify_glycan(man8)"
   ]
  },
  {
   "cell_type": "code",
   "execution_count": 23,
   "metadata": {},
   "outputs": [
    {
     "name": "stdout",
     "output_type": "stream",
     "text": [
      "Root residue: ASN 88 G -> MAN5_1;3,1\n",
      "Root residue: ASN 133 G -> NAG1_0;0,0\n",
      "Root residue: ASN 137 G -> MAN2_1;1,0\n",
      "Root residue: ASN 156 G -> MAN3_1;2,0\n",
      "Root residue: ASN 160 G -> NAG2_0;0,0\n",
      "Root residue: ASN 197 G -> NAG2_0;0,0\n",
      "Root residue: ASN 234 G -> NAG2_0;0,0\n",
      "Root residue: ASN 262 G -> MAN4_2;2,0\n",
      "Root residue: ASN 276 G -> NAG1_0;0,0\n",
      "Root residue: ASN 295 G -> NAG2_0;0,0\n",
      "Root residue: ASN 301 G -> NAG2_0;0,0\n",
      "Root residue: ASN 332 G -> MAN8_3;3,2\n",
      "Root residue: ASN 339 G -> NAG1_0;0,0\n",
      "Root residue: ASN 355 G -> NAG1_0;0,0\n",
      "Root residue: ASN 363 G -> NAG2_0;0,0\n",
      "Root residue: ASN 386 G -> NAG2_0;0,0\n",
      "Root residue: ASN 392 G -> NAG2_0;0,0\n",
      "Root residue: ASN 448 G -> BMA1_0;0,0\n",
      "Root residue: ASN 611 B -> NAG1_0;0,0\n",
      "Root residue: ASN 618 B -> NAG1_0;0,0\n",
      "Root residue: ASN 637 B -> NAG1_0;0,0\n"
     ]
    }
   ],
   "source": [
    "g.load_glycoprotein_from_AtomGroup(hiv_env)\n",
    "# List of identified residues that are part of a sequon\n",
    "sequons = g.find_linking_residues(sequon_pattern=\"(N[^P][S|T])\")\n",
    "# List of existing glycans, each containing an amino acid at the root\n",
    "glycans = g.find_existing_glycans()\n",
    "for glycan in glycans:\n",
    "    root_res: prody.Residue = glycan.residue_graph.graph[\"root_residue\"]\n",
    "    g.assign_patches(glycan)\n",
    "    glycan_name = g.identify_glycan(glycan)\n",
    "    print(f\"Root residue: {root_res.getResname()} {root_res.getResnum()} {root_res.getChid()} -> {glycan_name}\")\n"
   ]
  },
  {
   "cell_type": "code",
   "execution_count": null,
   "metadata": {},
   "outputs": [],
   "source": [
    "protein_residue = hiv_env[('G', 262)]\n",
    "original_glycan = g.find_glycan(protein_residue)\n",
    "\n",
    "# TODO:\n",
    "# this currently does not work, for some reason data structures go out of sync with the atom group:\n",
    "# in glycan_topology the first residue is missing, so at some point a patch path cannot be found, even if the underlying atom_group seems to have all the residues.\n",
    "new_glycan = g.glycosylate(original_glycan, 'MAN9_3;4,2', protein_residue, 'NGLB')\n",
    "# export glycoprotein as pdb if desired\n",
    "# g.write_glycoprotein_to_PDB('HIV_N262_man9.pdb')"
   ]
  },
  {
   "cell_type": "code",
   "execution_count": null,
   "metadata": {},
   "outputs": [],
   "source": []
  }
 ],
 "metadata": {
  "kernelspec": {
   "display_name": "Python 3.11.0 64-bit ('glycosylator3.11')",
   "language": "python",
   "name": "python3"
  },
  "language_info": {
   "codemirror_mode": {
    "name": "ipython",
    "version": 3
   },
   "file_extension": ".py",
   "mimetype": "text/x-python",
   "name": "python",
   "nbconvert_exporter": "python",
   "pygments_lexer": "ipython3",
   "version": "3.11.0"
  },
  "orig_nbformat": 4,
  "vscode": {
   "interpreter": {
    "hash": "c4d8a0aba6c286fa8f895b2a4c9d6c1e9707451f364d55e280ccabbbd2c44c74"
   }
  }
 },
 "nbformat": 4,
 "nbformat_minor": 2
}
