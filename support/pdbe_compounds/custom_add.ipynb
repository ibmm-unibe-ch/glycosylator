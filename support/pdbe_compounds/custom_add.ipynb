{
 "cells": [
  {
   "cell_type": "code",
   "execution_count": 1,
   "metadata": {},
   "outputs": [
    {
     "data": {
      "application/vnd.jupyter.widget-view+json": {
       "model_id": "8647df41219747b9bec181c06171378c",
       "version_major": 2,
       "version_minor": 0
      },
      "text/plain": []
     },
     "metadata": {},
     "output_type": "display_data"
    },
    {
     "data": {
      "text/plain": [
       "'3.1.44'"
      ]
     },
     "execution_count": 1,
     "metadata": {},
     "output_type": "execute_result"
    }
   ],
   "source": [
    "import biobuild as bb \n",
    "import numpy as np\n",
    "bb.load_sugars()\n",
    "bb.__version__"
   ]
  },
  {
   "cell_type": "code",
   "execution_count": 2,
   "metadata": {},
   "outputs": [],
   "source": [
    "def split_lines(string, lower=True):\n",
    "    final = [i.strip()for i in string.split(\"\\n\") if i.strip() != \"\"]\n",
    "    if lower:\n",
    "        final = [i.lower() for i in final]\n",
    "    return final"
   ]
  },
  {
   "cell_type": "code",
   "execution_count": 2,
   "metadata": {},
   "outputs": [
    {
     "name": "stdout",
     "output_type": "stream",
     "text": [
      "Man True\n",
      "Gal True\n",
      "Glc True\n",
      "Ido True\n",
      "All True\n",
      "Alt True\n",
      "Gul True\n",
      "Tal True\n",
      "Xyl True\n",
      "Lyx True\n",
      "Rib True\n",
      "Ara True\n",
      "Fru True\n",
      "Psi True\n",
      "Sor True\n",
      "Tag True\n",
      "Fuc True\n",
      "Rha True\n",
      "Qui True\n",
      "GalNAc True\n",
      "ManNAc True\n",
      "GalA True\n",
      "GlcA True\n",
      "IdoA True\n",
      "Neu5Ac True\n",
      "KDN True\n",
      "KDO True\n",
      "Neu5Gc True\n"
     ]
    }
   ],
   "source": [
    "sugars_to_have = [\n",
    "    \"Man\", \"Gal\", \"Glc\", \"Ido\", \"All\", \"Alt\", \"Gul\", \"Tal\", \"Xyl\", \"Lyx\", \"Rib\", \"Ara\", \"Fru\", \"Psi\", \"Sor\", \"Tag\", \"Fuc\", \"Rha\", \"Qui\", \"GalNAc\", \"ManNAc\", \"GalA\", \"GlcA\", \"IdoA\", \"Neu5Ac\", \"KDN\", \"KDO\", \"Neu5Gc\"\n",
    "]\n",
    "\n",
    "for sugar in sugars_to_have:\n",
    "    print(sugar, bb.has_compound(sugar))"
   ]
  },
  {
   "cell_type": "code",
   "execution_count": 3,
   "metadata": {},
   "outputs": [
    {
     "data": {
      "text/plain": [
       "False"
      ]
     },
     "execution_count": 3,
     "metadata": {},
     "output_type": "execute_result"
    }
   ],
   "source": [
    "bb.has_compound(\"PSE\")"
   ]
  },
  {
   "cell_type": "code",
   "execution_count": 4,
   "metadata": {},
   "outputs": [
    {
     "data": {
      "text/plain": [
       "True"
      ]
     },
     "execution_count": 4,
     "metadata": {},
     "output_type": "execute_result"
    }
   ],
   "source": [
    "bb.has_compound(\"5,7-diamino-3,5,7,9-tetradeoxy-L-glycero-alpha-L-manno-non-2-ulopyranosonic acid\")"
   ]
  },
  {
   "cell_type": "code",
   "execution_count": 5,
   "metadata": {},
   "outputs": [],
   "source": [
    "c = bb.get_default_compounds()"
   ]
  },
  {
   "cell_type": "code",
   "execution_count": 6,
   "metadata": {},
   "outputs": [],
   "source": [
    "c.to_json(\"compounds.json\")"
   ]
  },
  {
   "cell_type": "code",
   "execution_count": 26,
   "metadata": {},
   "outputs": [
    {
     "data": {
      "application/vnd.plotly.v1+json": {
       "config": {
        "plotlyServerURL": "https://plot.ly"
       },
       "data": [
        {
         "hovertemplate": "<b>%{hovertext}</b><br><br>color=H<br>x=%{x}<br>y=%{y}<br>z=%{z}<extra></extra>",
         "hovertext": [
          "HN22",
          "HN42",
          "H2",
          "H1",
          "H3",
          "HN21",
          "H5",
          "H4",
          "HN41",
          "H62",
          "H6A",
          "H61",
          "HO3",
          "HO1"
         ],
         "legendgroup": "H",
         "marker": {
          "color": "lightgray",
          "opacity": 0.3,
          "symbol": "circle"
         },
         "mode": "markers",
         "name": "H",
         "scene": "scene",
         "showlegend": true,
         "type": "scatter3d",
         "x": [
          3.302408071420671,
          -3.3326439727728006,
          1.256,
          1.208,
          -0.012,
          2.379,
          -1.222,
          -1.289,
          -2.41,
          -2.382,
          -3.335,
          -2.406,
          0.746,
          2.361
         ],
         "y": [
          -0.6930147925238116,
          -0.6802426520327952,
          -0.08,
          1.263,
          -0.965,
          -1.367,
          1.269,
          -0.074,
          -1.353,
          3.113,
          1.611,
          2.139,
          -2.726,
          2.948
         ],
         "z": [
          0.038605785527584924,
          0.028993254887583697,
          1.142,
          -1.6,
          -1.492,
          -1.227,
          -1.605,
          1.136,
          -1.239,
          -0.42,
          -0.353,
          1.071,
          -0.064,
          -0.36
         ]
        },
        {
         "hovertemplate": "<b>%{hovertext}</b><br><br>color=C<br>x=%{x}<br>y=%{y}<br>z=%{z}<extra></extra>",
         "hovertext": [
          "C1",
          "C3",
          "C4",
          "C5",
          "C6",
          "C2"
         ],
         "legendgroup": "C",
         "marker": {
          "color": "black",
          "opacity": 0.3,
          "symbol": "circle"
         },
         "mode": "markers",
         "name": "C",
         "scene": "scene",
         "showlegend": true,
         "type": "scatter3d",
         "x": [
          1.19,
          -0.015,
          -1.262,
          -1.209,
          -2.42,
          1.233
         ],
         "y": [
          1.303,
          -0.881,
          -0.114,
          1.309,
          2.1,
          -0.12
         ],
         "z": [
          -0.511,
          -0.406,
          0.047,
          -0.516,
          -0.019,
          0.053
         ]
        },
        {
         "hovertemplate": "<b>%{hovertext}</b><br><br>color=N<br>x=%{x}<br>y=%{y}<br>z=%{z}<extra></extra>",
         "hovertext": [
          "N2",
          "N4"
         ],
         "legendgroup": "N",
         "marker": {
          "color": "blue",
          "opacity": 0.3,
          "symbol": "circle"
         },
         "mode": "markers",
         "name": "N",
         "scene": "scene",
         "showlegend": true,
         "type": "scatter3d",
         "x": [
          2.431,
          -2.461
         ],
         "y": [
          -0.805,
          -0.793
         ],
         "z": [
          -0.439,
          -0.448
         ]
        },
        {
         "hovertemplate": "<b>%{hovertext}</b><br><br>color=O<br>x=%{x}<br>y=%{y}<br>z=%{z}<extra></extra>",
         "hovertext": [
          "O5",
          "O3",
          "O1"
         ],
         "legendgroup": "O",
         "marker": {
          "color": "red",
          "opacity": 0.3,
          "symbol": "circle"
         },
         "mode": "markers",
         "name": "O",
         "scene": "scene",
         "showlegend": true,
         "type": "scatter3d",
         "x": [
          -0.009,
          -0.02,
          2.323
         ],
         "y": [
          1.949,
          -2.186,
          2.036
         ],
         "z": [
          -0.077,
          0.176,
          -0.041
         ]
        },
        {
         "hoverinfo": "skip",
         "line": {
          "color": "black",
          "width": 1
         },
         "mode": "lines",
         "showlegend": false,
         "type": "scatter3d",
         "x": [
          1.19,
          1.233
         ],
         "y": [
          1.303,
          -0.12
         ],
         "z": [
          -0.511,
          0.053
         ]
        },
        {
         "hoverinfo": "skip",
         "line": {
          "color": "black",
          "width": 1
         },
         "mode": "lines",
         "showlegend": false,
         "type": "scatter3d",
         "x": [
          1.19,
          2.323
         ],
         "y": [
          1.303,
          2.036
         ],
         "z": [
          -0.511,
          -0.041
         ]
        },
        {
         "hoverinfo": "skip",
         "line": {
          "color": "black",
          "width": 1
         },
         "mode": "lines",
         "showlegend": false,
         "type": "scatter3d",
         "x": [
          2.431,
          3.302408071420671
         ],
         "y": [
          -0.805,
          -0.6930147925238116
         ],
         "z": [
          -0.439,
          0.038605785527584924
         ]
        },
        {
         "hoverinfo": "skip",
         "line": {
          "color": "black",
          "width": 1
         },
         "mode": "lines",
         "showlegend": false,
         "type": "scatter3d",
         "x": [
          -0.015,
          -0.02
         ],
         "y": [
          -0.881,
          -2.186
         ],
         "z": [
          -0.406,
          0.176
         ]
        },
        {
         "hoverinfo": "skip",
         "line": {
          "color": "black",
          "width": 1
         },
         "mode": "lines",
         "showlegend": false,
         "type": "scatter3d",
         "x": [
          -0.015,
          1.233
         ],
         "y": [
          -0.881,
          -0.12
         ],
         "z": [
          -0.406,
          0.053
         ]
        },
        {
         "hoverinfo": "skip",
         "line": {
          "color": "black",
          "width": 1
         },
         "mode": "lines",
         "showlegend": false,
         "type": "scatter3d",
         "x": [
          -1.262,
          -0.015
         ],
         "y": [
          -0.114,
          -0.881
         ],
         "z": [
          0.047,
          -0.406
         ]
        },
        {
         "hoverinfo": "skip",
         "line": {
          "color": "black",
          "width": 1
         },
         "mode": "lines",
         "showlegend": false,
         "type": "scatter3d",
         "x": [
          -1.262,
          -1.289
         ],
         "y": [
          -0.114,
          -0.074
         ],
         "z": [
          0.047,
          1.136
         ]
        },
        {
         "hoverinfo": "skip",
         "line": {
          "color": "black",
          "width": 1
         },
         "mode": "lines",
         "showlegend": false,
         "type": "scatter3d",
         "x": [
          -1.209,
          -1.262
         ],
         "y": [
          1.309,
          -0.114
         ],
         "z": [
          -0.516,
          0.047
         ]
        },
        {
         "hoverinfo": "skip",
         "line": {
          "color": "black",
          "width": 1
         },
         "mode": "lines",
         "showlegend": false,
         "type": "scatter3d",
         "x": [
          -1.209,
          -0.009
         ],
         "y": [
          1.309,
          1.949
         ],
         "z": [
          -0.516,
          -0.077
         ]
        },
        {
         "hoverinfo": "skip",
         "line": {
          "color": "black",
          "width": 1
         },
         "mode": "lines",
         "showlegend": false,
         "type": "scatter3d",
         "x": [
          -2.42,
          -1.209
         ],
         "y": [
          2.1,
          1.309
         ],
         "z": [
          -0.019,
          -0.516
         ]
        },
        {
         "hoverinfo": "skip",
         "line": {
          "color": "black",
          "width": 1
         },
         "mode": "lines",
         "showlegend": false,
         "type": "scatter3d",
         "x": [
          -2.42,
          -2.406
         ],
         "y": [
          2.1,
          2.139
         ],
         "z": [
          -0.019,
          1.071
         ]
        },
        {
         "hoverinfo": "skip",
         "line": {
          "color": "black",
          "width": 1
         },
         "mode": "lines",
         "showlegend": false,
         "type": "scatter3d",
         "x": [
          1.233,
          2.431
         ],
         "y": [
          -0.12,
          -0.805
         ],
         "z": [
          0.053,
          -0.439
         ]
        },
        {
         "hoverinfo": "skip",
         "line": {
          "color": "black",
          "width": 1
         },
         "mode": "lines",
         "showlegend": false,
         "type": "scatter3d",
         "x": [
          1.233,
          1.256
         ],
         "y": [
          -0.12,
          -0.08
         ],
         "z": [
          0.053,
          1.142
         ]
        },
        {
         "hoverinfo": "skip",
         "line": {
          "color": "black",
          "width": 1
         },
         "mode": "lines",
         "showlegend": false,
         "type": "scatter3d",
         "x": [
          -2.461,
          -1.262
         ],
         "y": [
          -0.793,
          -0.114
         ],
         "z": [
          -0.448,
          0.047
         ]
        },
        {
         "hoverinfo": "skip",
         "line": {
          "color": "black",
          "width": 1
         },
         "mode": "lines",
         "showlegend": false,
         "type": "scatter3d",
         "x": [
          -3.3326439727728006,
          -2.461
         ],
         "y": [
          -0.6802426520327952,
          -0.793
         ],
         "z": [
          0.028993254887583697,
          -0.448
         ]
        },
        {
         "hoverinfo": "skip",
         "line": {
          "color": "black",
          "width": 1
         },
         "mode": "lines",
         "showlegend": false,
         "type": "scatter3d",
         "x": [
          -0.009,
          1.19
         ],
         "y": [
          1.949,
          1.303
         ],
         "z": [
          -0.077,
          -0.511
         ]
        },
        {
         "hoverinfo": "skip",
         "line": {
          "color": "black",
          "width": 1
         },
         "mode": "lines",
         "showlegend": false,
         "type": "scatter3d",
         "x": [
          -0.02,
          0.746
         ],
         "y": [
          -2.186,
          -2.726
         ],
         "z": [
          0.176,
          -0.064
         ]
        },
        {
         "hoverinfo": "skip",
         "line": {
          "color": "black",
          "width": 1
         },
         "mode": "lines",
         "showlegend": false,
         "type": "scatter3d",
         "x": [
          1.208,
          1.19
         ],
         "y": [
          1.263,
          1.303
         ],
         "z": [
          -1.6,
          -0.511
         ]
        },
        {
         "hoverinfo": "skip",
         "line": {
          "color": "black",
          "width": 1
         },
         "mode": "lines",
         "showlegend": false,
         "type": "scatter3d",
         "x": [
          -0.012,
          -0.015
         ],
         "y": [
          -0.965,
          -0.881
         ],
         "z": [
          -1.492,
          -0.406
         ]
        },
        {
         "hoverinfo": "skip",
         "line": {
          "color": "black",
          "width": 1
         },
         "mode": "lines",
         "showlegend": false,
         "type": "scatter3d",
         "x": [
          2.379,
          2.431
         ],
         "y": [
          -1.367,
          -0.805
         ],
         "z": [
          -1.227,
          -0.439
         ]
        },
        {
         "hoverinfo": "skip",
         "line": {
          "color": "black",
          "width": 1
         },
         "mode": "lines",
         "showlegend": false,
         "type": "scatter3d",
         "x": [
          -1.222,
          -1.209
         ],
         "y": [
          1.269,
          1.309
         ],
         "z": [
          -1.605,
          -0.516
         ]
        },
        {
         "hoverinfo": "skip",
         "line": {
          "color": "black",
          "width": 1
         },
         "mode": "lines",
         "showlegend": false,
         "type": "scatter3d",
         "x": [
          -2.41,
          -2.461
         ],
         "y": [
          -1.353,
          -0.793
         ],
         "z": [
          -1.239,
          -0.448
         ]
        },
        {
         "hoverinfo": "skip",
         "line": {
          "color": "black",
          "width": 1
         },
         "mode": "lines",
         "showlegend": false,
         "type": "scatter3d",
         "x": [
          -2.382,
          -2.42
         ],
         "y": [
          3.113,
          2.1
         ],
         "z": [
          -0.42,
          -0.019
         ]
        },
        {
         "hoverinfo": "skip",
         "line": {
          "color": "black",
          "width": 1
         },
         "mode": "lines",
         "showlegend": false,
         "type": "scatter3d",
         "x": [
          -3.335,
          -2.42
         ],
         "y": [
          1.611,
          2.1
         ],
         "z": [
          -0.353,
          -0.019
         ]
        },
        {
         "hoverinfo": "skip",
         "line": {
          "color": "black",
          "width": 1
         },
         "mode": "lines",
         "showlegend": false,
         "type": "scatter3d",
         "x": [
          2.323,
          2.361
         ],
         "y": [
          2.036,
          2.948
         ],
         "z": [
          -0.041,
          -0.36
         ]
        }
       ],
       "layout": {
        "legend": {
         "title": {
          "text": "color"
         },
         "tracegroupgap": 0
        },
        "margin": {
         "t": 60
        },
        "scene": {
         "domain": {
          "x": [
           0,
           1
          ],
          "y": [
           0,
           1
          ]
         },
         "xaxis": {
          "showgrid": false,
          "showline": false,
          "showticklabels": false,
          "title": {
           "text": "x"
          }
         },
         "yaxis": {
          "showgrid": false,
          "showline": false,
          "showticklabels": false,
          "title": {
           "text": "y"
          }
         },
         "zaxis": {
          "showgrid": false,
          "showline": false,
          "showticklabels": false,
          "title": {
           "text": "z"
          }
         }
        },
        "template": {
         "data": {
          "scatter": [
           {
            "type": "scatter"
           }
          ]
         }
        }
       }
      }
     },
     "metadata": {},
     "output_type": "display_data"
    }
   ],
   "source": [
    "kdn = bb.get_compound(\"B6D\")\n",
    "kdn.remove_atoms(\n",
    "    \"C8\", \"H81\", \"H82\", \"H83\", \"C9\", \"H9\", \"H9B\", \"H9A\", \"O10\", \"O7\"\n",
    ")\n",
    "kdn.get_atom(\"C10\").element = \"H\"\n",
    "kdn.get_atom(\"C7\").element = \"H\"\n",
    "kdn.rename_atom(\"HN4\", \"HN41\")\n",
    "kdn.rename_atom(\"C10\", \"HN42\")\n",
    "\n",
    "vec = kdn.get_atom(\"HN42\").coord - kdn.get_atom(\"N4\").coord\n",
    "vec = vec / (np.linalg.norm(vec))\n",
    "vec = kdn.get_atom(\"N4\").coord + vec\n",
    "kdn.get_atom(\"HN42\").set_coord(vec)\n",
    "\n",
    "kdn.rename_atom(\"HN2\", \"HN21\")\n",
    "kdn.rename_atom(\"C7\", \"HN22\")\n",
    "vec = kdn.get_atom(\"HN22\").coord - kdn.get_atom(\"N2\").coord\n",
    "vec = vec / (np.linalg.norm(vec))\n",
    "vec = kdn.get_atom(\"N2\").coord + vec\n",
    "kdn.get_atom(\"HN22\").set_coord(vec)\n",
    "kdn.to_json(\"kdn.json\")\n",
    "kdn.show()"
   ]
  },
  {
   "cell_type": "code",
   "execution_count": 27,
   "metadata": {},
   "outputs": [],
   "source": [
    "names = \"\"\"\n",
    "b-AltA\n",
    "beta-L-altro-hexopyranuronic acid\n",
    "(2R,3R,4S,5R,6S)-3,4,5,6-tetrahydroxyoxane-2-carboxylate\n",
    "\n",
    "\"\"\"\n",
    "\n",
    "names = split_lines(names)\n",
    "\n",
    "identifiers = \"\"\"\n",
    "InChI=1S/C6H10O7/c7-1-2(8)4(5(10)11)13-6(12)3(1)9/h1-4,6-9,12H,(H,10,11)/p-1/t1-,2+,3+,4+,6-/m0/s1\n",
    "AEMOLEFTQBMNLQ-IJAWEHMJSA-M\n",
    "C1(C(C(OC(C1O)O)C(=O)[O-])O)O\n",
    "[C@@H]1([C@H]([C@@H](O[C@@H]([C@@H]1O)O)C(=O)[O-])O)O\n",
    "\n",
    "\"\"\"\n",
    "identifiers = split_lines(identifiers, lower=False)"
   ]
  },
  {
   "cell_type": "code",
   "execution_count": 28,
   "metadata": {},
   "outputs": [
    {
     "data": {
      "application/vnd.plotly.v1+json": {
       "config": {
        "plotlyServerURL": "https://plot.ly"
       },
       "data": [
        {
         "hovertemplate": "<b>%{hovertext}</b><br><br>color=H<br>x=%{x}<br>y=%{y}<br>z=%{z}<extra></extra>",
         "hovertext": [
          "H3",
          "H4",
          "H2",
          "H5",
          "H1",
          "HO3",
          "HO4",
          "HO2",
          "HO1"
         ],
         "legendgroup": "H",
         "marker": {
          "color": "lightgray",
          "opacity": 0.3,
          "symbol": "circle"
         },
         "mode": "markers",
         "name": "H",
         "scene": "scene",
         "showlegend": true,
         "type": "scatter3d",
         "x": [
          -1.363,
          0.4923,
          -2.9748,
          0.8845,
          -1.4139,
          -2.1118,
          1.1491,
          -1.2239,
          -2.1399
         ],
         "y": [
          2.1735,
          0.7692,
          0.4416,
          0.1463,
          -0.6163,
          2.2849,
          2.4306,
          -0.6795,
          -2.5893
         ],
         "z": [
          -0.9172,
          -1.4978,
          0.1098,
          1.5082,
          1.7237,
          1.2226,
          0.7068,
          -1.8158,
          1.3631
         ]
        },
        {
         "hovertemplate": "<b>%{hovertext}</b><br><br>color=C<br>x=%{x}<br>y=%{y}<br>z=%{z}<extra></extra>",
         "hovertext": [
          "C3",
          "C4",
          "C2",
          "C5",
          "C1",
          "C6"
         ],
         "legendgroup": "C",
         "marker": {
          "color": "black",
          "opacity": 0.3,
          "symbol": "circle"
         },
         "mode": "markers",
         "name": "C",
         "scene": "scene",
         "showlegend": true,
         "type": "scatter3d",
         "x": [
          -1.0554,
          0.4072,
          -1.9603,
          0.8246,
          -1.4023,
          2.1788
         ],
         "y": [
          1.4239,
          1.0322,
          0.1915,
          -0.1394,
          -0.9261,
          -0.6137
         ],
         "z": [
          -0.1791,
          -0.4368,
          -0.2204,
          0.4504,
          0.6713,
          -0.037
         ]
        },
        {
         "hovertemplate": "<b>%{hovertext}</b><br><br>color=O<br>x=%{x}<br>y=%{y}<br>z=%{z}<extra></extra>",
         "hovertext": [
          "O5",
          "O3",
          "O4",
          "O2",
          "O1",
          "O61",
          "O62"
         ],
         "legendgroup": "O",
         "marker": {
          "color": "red",
          "opacity": 0.3,
          "symbol": "circle"
         },
         "mode": "markers",
         "name": "O",
         "scene": "scene",
         "showlegend": true,
         "type": "scatter3d",
         "x": [
          -0.0631,
          -1.1835,
          1.2528,
          -2.0696,
          -2.2441,
          2.2221,
          3.0927
         ],
         "y": [
          -1.2428,
          2.0165,
          2.1578,
          -0.2699,
          -2.0688,
          -0.9686,
          -0.5926
         ],
         "z": [
          0.2902,
          1.1135,
          -0.2208,
          -1.5668,
          0.5486,
          -1.2476,
          0.8345
         ]
        },
        {
         "hoverinfo": "skip",
         "line": {
          "color": "black",
          "width": 1
         },
         "mode": "lines",
         "showlegend": false,
         "type": "scatter3d",
         "x": [
          -0.0631,
          0.8246
         ],
         "y": [
          -1.2428,
          -0.1394
         ],
         "z": [
          0.2902,
          0.4504
         ]
        },
        {
         "hoverinfo": "skip",
         "line": {
          "color": "black",
          "width": 1
         },
         "mode": "lines",
         "showlegend": false,
         "type": "scatter3d",
         "x": [
          -0.0631,
          -1.4023
         ],
         "y": [
          -1.2428,
          -0.9261
         ],
         "z": [
          0.2902,
          0.6713
         ]
        },
        {
         "hoverinfo": "skip",
         "line": {
          "color": "black",
          "width": 1
         },
         "mode": "lines",
         "showlegend": false,
         "type": "scatter3d",
         "x": [
          -1.1835,
          -1.0554
         ],
         "y": [
          2.0165,
          1.4239
         ],
         "z": [
          1.1135,
          -0.1791
         ]
        },
        {
         "hoverinfo": "skip",
         "line": {
          "color": "black",
          "width": 1
         },
         "mode": "lines",
         "showlegend": false,
         "type": "scatter3d",
         "x": [
          -1.1835,
          -2.1118
         ],
         "y": [
          2.0165,
          2.2849
         ],
         "z": [
          1.1135,
          1.2226
         ]
        },
        {
         "hoverinfo": "skip",
         "line": {
          "color": "black",
          "width": 1
         },
         "mode": "lines",
         "showlegend": false,
         "type": "scatter3d",
         "x": [
          1.2528,
          0.4072
         ],
         "y": [
          2.1578,
          1.0322
         ],
         "z": [
          -0.2208,
          -0.4368
         ]
        },
        {
         "hoverinfo": "skip",
         "line": {
          "color": "black",
          "width": 1
         },
         "mode": "lines",
         "showlegend": false,
         "type": "scatter3d",
         "x": [
          1.2528,
          1.1491
         ],
         "y": [
          2.1578,
          2.4306
         ],
         "z": [
          -0.2208,
          0.7068
         ]
        },
        {
         "hoverinfo": "skip",
         "line": {
          "color": "black",
          "width": 1
         },
         "mode": "lines",
         "showlegend": false,
         "type": "scatter3d",
         "x": [
          -2.0696,
          -1.9603
         ],
         "y": [
          -0.2699,
          0.1915
         ],
         "z": [
          -1.5668,
          -0.2204
         ]
        },
        {
         "hoverinfo": "skip",
         "line": {
          "color": "black",
          "width": 1
         },
         "mode": "lines",
         "showlegend": false,
         "type": "scatter3d",
         "x": [
          -2.0696,
          -1.2239
         ],
         "y": [
          -0.2699,
          -0.6795
         ],
         "z": [
          -1.5668,
          -1.8158
         ]
        },
        {
         "hoverinfo": "skip",
         "line": {
          "color": "black",
          "width": 1
         },
         "mode": "lines",
         "showlegend": false,
         "type": "scatter3d",
         "x": [
          -2.2441,
          -1.4023
         ],
         "y": [
          -2.0688,
          -0.9261
         ],
         "z": [
          0.5486,
          0.6713
         ]
        },
        {
         "hoverinfo": "skip",
         "line": {
          "color": "black",
          "width": 1
         },
         "mode": "lines",
         "showlegend": false,
         "type": "scatter3d",
         "x": [
          -2.2441,
          -2.1399
         ],
         "y": [
          -2.0688,
          -2.5893
         ],
         "z": [
          0.5486,
          1.3631
         ]
        },
        {
         "hoverinfo": "skip",
         "line": {
          "color": "black",
          "width": 1
         },
         "mode": "lines",
         "showlegend": false,
         "type": "scatter3d",
         "x": [
          2.2221,
          2.1788
         ],
         "y": [
          -0.9686,
          -0.6137
         ],
         "z": [
          -1.2476,
          -0.037
         ]
        },
        {
         "hoverinfo": "skip",
         "line": {
          "color": "black",
          "width": 1
         },
         "mode": "lines",
         "showlegend": false,
         "type": "scatter3d",
         "x": [
          3.0927,
          2.1788
         ],
         "y": [
          -0.5926,
          -0.6137
         ],
         "z": [
          0.8345,
          -0.037
         ]
        },
        {
         "hoverinfo": "skip",
         "line": {
          "color": "black",
          "width": 1
         },
         "mode": "lines",
         "showlegend": false,
         "type": "scatter3d",
         "x": [
          -1.0554,
          0.4072
         ],
         "y": [
          1.4239,
          1.0322
         ],
         "z": [
          -0.1791,
          -0.4368
         ]
        },
        {
         "hoverinfo": "skip",
         "line": {
          "color": "black",
          "width": 1
         },
         "mode": "lines",
         "showlegend": false,
         "type": "scatter3d",
         "x": [
          -1.0554,
          -1.9603
         ],
         "y": [
          1.4239,
          0.1915
         ],
         "z": [
          -0.1791,
          -0.2204
         ]
        },
        {
         "hoverinfo": "skip",
         "line": {
          "color": "black",
          "width": 1
         },
         "mode": "lines",
         "showlegend": false,
         "type": "scatter3d",
         "x": [
          -1.0554,
          -1.363
         ],
         "y": [
          1.4239,
          2.1735
         ],
         "z": [
          -0.1791,
          -0.9172
         ]
        },
        {
         "hoverinfo": "skip",
         "line": {
          "color": "black",
          "width": 1
         },
         "mode": "lines",
         "showlegend": false,
         "type": "scatter3d",
         "x": [
          0.4072,
          0.8246
         ],
         "y": [
          1.0322,
          -0.1394
         ],
         "z": [
          -0.4368,
          0.4504
         ]
        },
        {
         "hoverinfo": "skip",
         "line": {
          "color": "black",
          "width": 1
         },
         "mode": "lines",
         "showlegend": false,
         "type": "scatter3d",
         "x": [
          0.4072,
          0.4923
         ],
         "y": [
          1.0322,
          0.7692
         ],
         "z": [
          -0.4368,
          -1.4978
         ]
        },
        {
         "hoverinfo": "skip",
         "line": {
          "color": "black",
          "width": 1
         },
         "mode": "lines",
         "showlegend": false,
         "type": "scatter3d",
         "x": [
          -1.9603,
          -1.4023
         ],
         "y": [
          0.1915,
          -0.9261
         ],
         "z": [
          -0.2204,
          0.6713
         ]
        },
        {
         "hoverinfo": "skip",
         "line": {
          "color": "black",
          "width": 1
         },
         "mode": "lines",
         "showlegend": false,
         "type": "scatter3d",
         "x": [
          -1.9603,
          -2.9748
         ],
         "y": [
          0.1915,
          0.4416
         ],
         "z": [
          -0.2204,
          0.1098
         ]
        },
        {
         "hoverinfo": "skip",
         "line": {
          "color": "black",
          "width": 1
         },
         "mode": "lines",
         "showlegend": false,
         "type": "scatter3d",
         "x": [
          0.8246,
          2.1788
         ],
         "y": [
          -0.1394,
          -0.6137
         ],
         "z": [
          0.4504,
          -0.037
         ]
        },
        {
         "hoverinfo": "skip",
         "line": {
          "color": "black",
          "width": 1
         },
         "mode": "lines",
         "showlegend": false,
         "type": "scatter3d",
         "x": [
          0.8246,
          0.8845
         ],
         "y": [
          -0.1394,
          0.1463
         ],
         "z": [
          0.4504,
          1.5082
         ]
        },
        {
         "hoverinfo": "skip",
         "line": {
          "color": "black",
          "width": 1
         },
         "mode": "lines",
         "showlegend": false,
         "type": "scatter3d",
         "x": [
          -1.4023,
          -1.4139
         ],
         "y": [
          -0.9261,
          -0.6163
         ],
         "z": [
          0.6713,
          1.7237
         ]
        }
       ],
       "layout": {
        "legend": {
         "title": {
          "text": "color"
         },
         "tracegroupgap": 0
        },
        "margin": {
         "t": 60
        },
        "scene": {
         "domain": {
          "x": [
           0,
           1
          ],
          "y": [
           0,
           1
          ]
         },
         "xaxis": {
          "showgrid": false,
          "showline": false,
          "showticklabels": false,
          "title": {
           "text": "x"
          }
         },
         "yaxis": {
          "showgrid": false,
          "showline": false,
          "showticklabels": false,
          "title": {
           "text": "y"
          }
         },
         "zaxis": {
          "showgrid": false,
          "showline": false,
          "showticklabels": false,
          "title": {
           "text": "z"
          }
         }
        },
        "template": {
         "data": {
          "scatter": [
           {
            "type": "scatter"
           }
          ]
         }
        }
       }
      }
     },
     "metadata": {},
     "output_type": "display_data"
    }
   ],
   "source": [
    "id = \"Q76\"\n",
    "mol = bb.Molecule.from_pubchem(\"b-AltA\")\n",
    "mol.autolabel()\n",
    "mol.id = id\n",
    "mol.rename_residue(1, id)\n",
    "mol.to_json(f\"{id}.json\", type=\"SACCHARIDE\", three_letter_code = id, names=names, identifiers=identifiers)\n",
    "mol.show()"
   ]
  },
  {
   "cell_type": "code",
   "execution_count": 9,
   "metadata": {},
   "outputs": [],
   "source": [
    "pass"
   ]
  },
  {
   "cell_type": "code",
   "execution_count": 12,
   "metadata": {},
   "outputs": [
    {
     "name": "stdout",
     "output_type": "stream",
     "text": [
      "({'id': 'KDN', 'name': '3-deoxy-d-glycero-beta-d-galacto-non-2-ulopyranosonic acid', 'type': 'SACCHARIDE', 'formula': 'C9H16O9', 'one_letter_code': None, 'three_letter_code': 'KDN', 'names': ['3-deoxy-d-glycero-beta-d-galacto-non-2-ulopyranosonic acid', 'beta-deaminoneuraminic acid', '(2s,4s,5r,6r)-2,4,5-trihydroxy-6-[(1r,2r)-1,2,3-trihydroxypropyl]oxane-2-carboxylic acid', 'b-d-kdnp', 'sialic acid', 'deamino-beta-neuraminic acid', '2-keto-3-deoxy-b-d-nonulopyranosic acid', 'dkdnpb', 'b-kdn'], 'descriptors': ['O=C(O)C1(O)OC(C(O)C(O)CO)C(O)C(O)C1', 'OC[C@@H](O)[C@@H](O)[C@@H]1O[C@@](O)(C[C@H](O)[C@H]1O)C(O)=O', 'OC[CH](O)[CH](O)[CH]1O[C](O)(C[CH](O)[CH]1O)C(O)=O', 'C1[C@@H]([C@H]([C@@H](O[C@@]1(C(=O)O)O)[C@@H]([C@@H](CO)O)O)O)O', 'C1C(C(C(OC1(C(=O)O)O)C(C(CO)O)O)O)O', 'InChI=1S/C9H16O9/c10-2-4(12)6(14)7-5(13)3(11)1-9(17,18-7)8(15)16/h3-7,10-14,17H,1-2H2,(H,15,16)/t3-,4+,5+,6+,7+,9-/m0/s1', 'CLRLHXKNIYJWAW-YOQZMRDMSA-N']}, {'atoms': {'full_ids': ['C2', 'C1', 'C3', 'C4', 'C5', 'C6', 'C7', 'C8', 'C9', 'O5', 'O1A', 'O1B', 'O4', 'O6', 'O7', 'O8', 'O9', 'O2', 'H31', 'H32', 'HO2', 'H4', 'H5', 'HO4', 'H6', 'HO5', 'H7', 'H8', 'HO7', 'HO8', 'H91', 'H92', 'HO1B', 'HO9'], 'ids': ['C2', 'C1', 'C3', 'C4', 'C5', 'C6', 'C7', 'C8', 'C9', 'O5', 'O1A', 'O1B', 'O4', 'O6', 'O7', 'O8', 'O9', 'O2', 'H31', 'H32', 'HO2', 'H4', 'H5', 'HO4', 'H6', 'HO5', 'H7', 'H8', 'HO7', 'HO8', 'H91', 'H92', 'HO1B', 'HO9'], 'serials': [1, 2, 3, 4, 5, 6, 7, 8, 9, 10, 11, 12, 13, 14, 15, 16, 17, 18, 19, 20, 21, 22, 23, 24, 25, 26, 27, 28, 29, 30, 31, 32, 33, 34], 'coords': array([[-1.565,  0.823, -0.231],\n",
      "       [-2.   ,  2.155,  0.322],\n",
      "       [-2.512, -0.271,  0.268],\n",
      "       [-2.029, -1.63 , -0.25 ],\n",
      "       [-0.585, -1.855,  0.211],\n",
      "       [ 0.287, -0.7  , -0.286],\n",
      "       [ 1.719, -0.887,  0.221],\n",
      "       [ 2.561,  0.329, -0.17 ],\n",
      "       [ 3.993,  0.142,  0.337],\n",
      "       [-0.099, -3.087, -0.327],\n",
      "       [-1.218,  2.836,  0.944],\n",
      "       [-3.256,  2.586,  0.125],\n",
      "       [-2.864, -2.665,  0.272],\n",
      "       [-0.235,  0.536,  0.206],\n",
      "       [ 1.707, -1.02 ,  1.643],\n",
      "       [ 2.573,  0.462, -1.593],\n",
      "       [ 4.749,  1.325,  0.074],\n",
      "       [-1.598,  0.866, -1.659],\n",
      "       [-2.518, -0.278,  1.358],\n",
      "       [-3.519, -0.078, -0.101],\n",
      "       [-1.02 ,  1.538, -2.046],\n",
      "       [-2.07 , -1.64 , -1.339],\n",
      "       [-0.553, -1.894,  1.3  ],\n",
      "       [-3.795, -2.581,  0.024],\n",
      "       [ 0.287, -0.687, -1.376],\n",
      "       [-0.609, -3.862, -0.056],\n",
      "       [ 2.148, -1.785, -0.225],\n",
      "       [ 2.132,  1.227,  0.275],\n",
      "       [ 1.337, -0.256,  2.107],\n",
      "       [ 2.943, -0.302, -2.057],\n",
      "       [ 3.976, -0.048,  1.41 ],\n",
      "       [ 4.452, -0.704, -0.175],\n",
      "       [-3.488,  3.447,  0.5  ],\n",
      "       [ 5.669,  1.278,  0.37 ]]), 'elements': ['C', 'C', 'C', 'C', 'C', 'C', 'C', 'C', 'C', 'O', 'O', 'O', 'O', 'O', 'O', 'O', 'O', 'O', 'H', 'H', 'H', 'H', 'H', 'H', 'H', 'H', 'H', 'H', 'H', 'H', 'H', 'H', 'H', 'H'], 'charges': [None, None, None, None, None, None, None, None, None, None, None, None, None, None, None, None, None, None, None, None, None, None, None, None, None, None, None, None, None, None, None, None, None, None], 'residue': [1, 1, 1, 1, 1, 1, 1, 1, 1, 1, 1, 1, 1, 1, 1, 1, 1, 1, 1, 1, 1, 1, 1, 1, 1, 1, 1, 1, 1, 1, 1, 1, 1, 1]}, 'bonds': {'bonds': [('C2', 'C3'), ('C2', 'O2'), ('C2', 'O6'), ('C2', 'C1'), ('C3', 'C4'), ('C4', 'C5'), ('C4', 'O4'), ('C5', 'C6'), ('C5', 'O5'), ('C6', 'C7'), ('C6', 'O6'), ('C7', 'C8'), ('C7', 'O7'), ('C8', 'O8'), ('C8', 'C9'), ('O1B', 'C1'), ('O1A', 'C1'), ('O9', 'C9'), ('C3', 'H31'), ('C3', 'H32'), ('O2', 'HO2'), ('C4', 'H4'), ('C5', 'H5'), ('O4', 'HO4'), ('C6', 'H6'), ('O5', 'HO5'), ('C7', 'H7'), ('C8', 'H8'), ('O7', 'HO7'), ('O8', 'HO8'), ('C9', 'H91'), ('C9', 'H92'), ('O1B', 'HO1B'), ('O9', 'HO9')], 'parents': [(1, 1), (1, 1), (1, 1), (1, 1), (1, 1), (1, 1), (1, 1), (1, 1), (1, 1), (1, 1), (1, 1), (1, 1), (1, 1), (1, 1), (1, 1), (1, 1), (1, 1), (1, 1), (1, 1), (1, 1), (1, 1), (1, 1), (1, 1), (1, 1), (1, 1), (1, 1), (1, 1), (1, 1), (1, 1), (1, 1), (1, 1), (1, 1), (1, 1), (1, 1)], 'orders': ['SING', 'SING', 'SING', 'SING', 'SING', 'SING', 'SING', 'SING', 'SING', 'SING', 'SING', 'SING', 'SING', 'SING', 'SING', 'SING', 'DOUB', 'SING', 'SING', 'SING', 'SING', 'SING', 'SING', 'SING', 'SING', 'SING', 'SING', 'SING', 'SING', 'SING', 'SING', 'SING', 'SING', 'SING']}, 'residues': {'serials': [1], 'names': ['KDN']}})\n"
     ]
    }
   ],
   "source": [
    "x = bb.get_compound(\"KDN\", return_type=\"dict\")\n",
    "if isinstance(x, list):\n",
    "    for i in x:\n",
    "        print(i)\n",
    "else:\n",
    "    print(x)"
   ]
  },
  {
   "cell_type": "code",
   "execution_count": null,
   "metadata": {},
   "outputs": [],
   "source": []
  }
 ],
 "metadata": {
  "kernelspec": {
   "display_name": "glyco2",
   "language": "python",
   "name": "python3"
  },
  "language_info": {
   "codemirror_mode": {
    "name": "ipython",
    "version": 3
   },
   "file_extension": ".py",
   "mimetype": "text/x-python",
   "name": "python",
   "nbconvert_exporter": "python",
   "pygments_lexer": "ipython3",
   "version": "3.11.0"
  },
  "orig_nbformat": 4
 },
 "nbformat": 4,
 "nbformat_minor": 2
}
